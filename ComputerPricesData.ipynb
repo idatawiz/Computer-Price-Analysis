{
 "cells": [
  {
   "cell_type": "code",
   "execution_count": 28,
   "id": "960692bb",
   "metadata": {},
   "outputs": [],
   "source": [
    "import pandas as pd\n",
    "import numpy as np"
   ]
  },
  {
   "cell_type": "code",
   "execution_count": 29,
   "id": "1b1a59d4",
   "metadata": {},
   "outputs": [],
   "source": [
    "ComPricesData=pd.read_csv('file:///E:/Data%20Science/Ivy%20Python%20&%20Machine%20Learning,Deep%20Learning/Python%20Datasets/Regression%20Datasets/ComputerPricesData.csv',sep=\",\",\n",
    "                         encoding='latin-1')"
   ]
  },
  {
   "cell_type": "code",
   "execution_count": 30,
   "id": "c1166b3f",
   "metadata": {},
   "outputs": [
    {
     "data": {
      "text/html": [
       "<div>\n",
       "<style scoped>\n",
       "    .dataframe tbody tr th:only-of-type {\n",
       "        vertical-align: middle;\n",
       "    }\n",
       "\n",
       "    .dataframe tbody tr th {\n",
       "        vertical-align: top;\n",
       "    }\n",
       "\n",
       "    .dataframe thead th {\n",
       "        text-align: right;\n",
       "    }\n",
       "</style>\n",
       "<table border=\"1\" class=\"dataframe\">\n",
       "  <thead>\n",
       "    <tr style=\"text-align: right;\">\n",
       "      <th></th>\n",
       "      <th>price</th>\n",
       "      <th>speed</th>\n",
       "      <th>hd</th>\n",
       "      <th>ram</th>\n",
       "      <th>screen</th>\n",
       "      <th>cd</th>\n",
       "      <th>multi</th>\n",
       "      <th>premium</th>\n",
       "      <th>ads</th>\n",
       "      <th>trend</th>\n",
       "    </tr>\n",
       "  </thead>\n",
       "  <tbody>\n",
       "    <tr>\n",
       "      <th>6254</th>\n",
       "      <td>1690</td>\n",
       "      <td>100</td>\n",
       "      <td>528</td>\n",
       "      <td>8</td>\n",
       "      <td>15</td>\n",
       "      <td>no</td>\n",
       "      <td>no</td>\n",
       "      <td>yes</td>\n",
       "      <td>39</td>\n",
       "      <td>35</td>\n",
       "    </tr>\n",
       "    <tr>\n",
       "      <th>6255</th>\n",
       "      <td>2223</td>\n",
       "      <td>66</td>\n",
       "      <td>850</td>\n",
       "      <td>16</td>\n",
       "      <td>15</td>\n",
       "      <td>yes</td>\n",
       "      <td>yes</td>\n",
       "      <td>yes</td>\n",
       "      <td>39</td>\n",
       "      <td>35</td>\n",
       "    </tr>\n",
       "    <tr>\n",
       "      <th>6256</th>\n",
       "      <td>2654</td>\n",
       "      <td>100</td>\n",
       "      <td>1200</td>\n",
       "      <td>24</td>\n",
       "      <td>15</td>\n",
       "      <td>yes</td>\n",
       "      <td>no</td>\n",
       "      <td>yes</td>\n",
       "      <td>39</td>\n",
       "      <td>35</td>\n",
       "    </tr>\n",
       "    <tr>\n",
       "      <th>6257</th>\n",
       "      <td>2195</td>\n",
       "      <td>100</td>\n",
       "      <td>850</td>\n",
       "      <td>16</td>\n",
       "      <td>15</td>\n",
       "      <td>yes</td>\n",
       "      <td>no</td>\n",
       "      <td>yes</td>\n",
       "      <td>39</td>\n",
       "      <td>35</td>\n",
       "    </tr>\n",
       "    <tr>\n",
       "      <th>6258</th>\n",
       "      <td>2490</td>\n",
       "      <td>100</td>\n",
       "      <td>850</td>\n",
       "      <td>16</td>\n",
       "      <td>17</td>\n",
       "      <td>yes</td>\n",
       "      <td>no</td>\n",
       "      <td>yes</td>\n",
       "      <td>39</td>\n",
       "      <td>35</td>\n",
       "    </tr>\n",
       "  </tbody>\n",
       "</table>\n",
       "</div>"
      ],
      "text/plain": [
       "      price  speed    hd  ram  screen   cd multi premium  ads  trend\n",
       "6254   1690    100   528    8      15   no    no     yes   39     35\n",
       "6255   2223     66   850   16      15  yes   yes     yes   39     35\n",
       "6256   2654    100  1200   24      15  yes    no     yes   39     35\n",
       "6257   2195    100   850   16      15  yes    no     yes   39     35\n",
       "6258   2490    100   850   16      17  yes    no     yes   39     35"
      ]
     },
     "execution_count": 30,
     "metadata": {},
     "output_type": "execute_result"
    }
   ],
   "source": [
    "ComPricesData.tail()"
   ]
  },
  {
   "cell_type": "code",
   "execution_count": 31,
   "id": "a614835e",
   "metadata": {},
   "outputs": [
    {
     "name": "stdout",
     "output_type": "stream",
     "text": [
      "<class 'pandas.core.frame.DataFrame'>\n",
      "RangeIndex: 6259 entries, 0 to 6258\n",
      "Data columns (total 10 columns):\n",
      " #   Column   Non-Null Count  Dtype \n",
      "---  ------   --------------  ----- \n",
      " 0   price    6259 non-null   int64 \n",
      " 1   speed    6259 non-null   int64 \n",
      " 2   hd       6259 non-null   int64 \n",
      " 3   ram      6259 non-null   int64 \n",
      " 4   screen   6259 non-null   int64 \n",
      " 5   cd       6259 non-null   object\n",
      " 6   multi    6259 non-null   object\n",
      " 7   premium  6259 non-null   object\n",
      " 8   ads      6259 non-null   int64 \n",
      " 9   trend    6259 non-null   int64 \n",
      "dtypes: int64(7), object(3)\n",
      "memory usage: 489.1+ KB\n"
     ]
    }
   ],
   "source": [
    "ComPricesData.info()"
   ]
  },
  {
   "cell_type": "code",
   "execution_count": 32,
   "id": "c47d6f78",
   "metadata": {},
   "outputs": [
    {
     "data": {
      "text/html": [
       "<div>\n",
       "<style scoped>\n",
       "    .dataframe tbody tr th:only-of-type {\n",
       "        vertical-align: middle;\n",
       "    }\n",
       "\n",
       "    .dataframe tbody tr th {\n",
       "        vertical-align: top;\n",
       "    }\n",
       "\n",
       "    .dataframe thead th {\n",
       "        text-align: right;\n",
       "    }\n",
       "</style>\n",
       "<table border=\"1\" class=\"dataframe\">\n",
       "  <thead>\n",
       "    <tr style=\"text-align: right;\">\n",
       "      <th></th>\n",
       "      <th>price</th>\n",
       "      <th>speed</th>\n",
       "      <th>hd</th>\n",
       "      <th>ram</th>\n",
       "      <th>screen</th>\n",
       "      <th>ads</th>\n",
       "      <th>trend</th>\n",
       "    </tr>\n",
       "  </thead>\n",
       "  <tbody>\n",
       "    <tr>\n",
       "      <th>count</th>\n",
       "      <td>6259.00</td>\n",
       "      <td>6259.00</td>\n",
       "      <td>6259.00</td>\n",
       "      <td>6259.00</td>\n",
       "      <td>6259.00</td>\n",
       "      <td>6259.00</td>\n",
       "      <td>6259.00</td>\n",
       "    </tr>\n",
       "    <tr>\n",
       "      <th>mean</th>\n",
       "      <td>2219.58</td>\n",
       "      <td>52.01</td>\n",
       "      <td>416.60</td>\n",
       "      <td>8.29</td>\n",
       "      <td>14.61</td>\n",
       "      <td>221.30</td>\n",
       "      <td>15.93</td>\n",
       "    </tr>\n",
       "    <tr>\n",
       "      <th>std</th>\n",
       "      <td>580.80</td>\n",
       "      <td>21.16</td>\n",
       "      <td>258.55</td>\n",
       "      <td>5.63</td>\n",
       "      <td>0.91</td>\n",
       "      <td>74.84</td>\n",
       "      <td>7.87</td>\n",
       "    </tr>\n",
       "    <tr>\n",
       "      <th>min</th>\n",
       "      <td>949.00</td>\n",
       "      <td>25.00</td>\n",
       "      <td>80.00</td>\n",
       "      <td>2.00</td>\n",
       "      <td>14.00</td>\n",
       "      <td>39.00</td>\n",
       "      <td>1.00</td>\n",
       "    </tr>\n",
       "    <tr>\n",
       "      <th>25%</th>\n",
       "      <td>1794.00</td>\n",
       "      <td>33.00</td>\n",
       "      <td>214.00</td>\n",
       "      <td>4.00</td>\n",
       "      <td>14.00</td>\n",
       "      <td>162.50</td>\n",
       "      <td>10.00</td>\n",
       "    </tr>\n",
       "    <tr>\n",
       "      <th>50%</th>\n",
       "      <td>2144.00</td>\n",
       "      <td>50.00</td>\n",
       "      <td>340.00</td>\n",
       "      <td>8.00</td>\n",
       "      <td>14.00</td>\n",
       "      <td>246.00</td>\n",
       "      <td>16.00</td>\n",
       "    </tr>\n",
       "    <tr>\n",
       "      <th>75%</th>\n",
       "      <td>2595.00</td>\n",
       "      <td>66.00</td>\n",
       "      <td>528.00</td>\n",
       "      <td>8.00</td>\n",
       "      <td>15.00</td>\n",
       "      <td>275.00</td>\n",
       "      <td>21.50</td>\n",
       "    </tr>\n",
       "    <tr>\n",
       "      <th>max</th>\n",
       "      <td>5399.00</td>\n",
       "      <td>100.00</td>\n",
       "      <td>2100.00</td>\n",
       "      <td>32.00</td>\n",
       "      <td>17.00</td>\n",
       "      <td>339.00</td>\n",
       "      <td>35.00</td>\n",
       "    </tr>\n",
       "  </tbody>\n",
       "</table>\n",
       "</div>"
      ],
      "text/plain": [
       "         price    speed       hd      ram   screen      ads    trend\n",
       "count  6259.00  6259.00  6259.00  6259.00  6259.00  6259.00  6259.00\n",
       "mean   2219.58    52.01   416.60     8.29    14.61   221.30    15.93\n",
       "std     580.80    21.16   258.55     5.63     0.91    74.84     7.87\n",
       "min     949.00    25.00    80.00     2.00    14.00    39.00     1.00\n",
       "25%    1794.00    33.00   214.00     4.00    14.00   162.50    10.00\n",
       "50%    2144.00    50.00   340.00     8.00    14.00   246.00    16.00\n",
       "75%    2595.00    66.00   528.00     8.00    15.00   275.00    21.50\n",
       "max    5399.00   100.00  2100.00    32.00    17.00   339.00    35.00"
      ]
     },
     "execution_count": 32,
     "metadata": {},
     "output_type": "execute_result"
    }
   ],
   "source": [
    "round(ComPricesData.describe(),2)"
   ]
  },
  {
   "cell_type": "code",
   "execution_count": 33,
   "id": "472912aa",
   "metadata": {},
   "outputs": [
    {
     "data": {
      "text/plain": [
       "price      808\n",
       "speed        6\n",
       "hd          59\n",
       "ram          6\n",
       "screen       3\n",
       "cd           2\n",
       "multi        2\n",
       "premium      2\n",
       "ads         34\n",
       "trend       35\n",
       "dtype: int64"
      ]
     },
     "execution_count": 33,
     "metadata": {},
     "output_type": "execute_result"
    }
   ],
   "source": [
    "ComPricesData.nunique()"
   ]
  },
  {
   "cell_type": "code",
   "execution_count": 34,
   "id": "19853caa",
   "metadata": {},
   "outputs": [
    {
     "data": {
      "text/html": [
       "<div>\n",
       "<style scoped>\n",
       "    .dataframe tbody tr th:only-of-type {\n",
       "        vertical-align: middle;\n",
       "    }\n",
       "\n",
       "    .dataframe tbody tr th {\n",
       "        vertical-align: top;\n",
       "    }\n",
       "\n",
       "    .dataframe thead th {\n",
       "        text-align: right;\n",
       "    }\n",
       "</style>\n",
       "<table border=\"1\" class=\"dataframe\">\n",
       "  <thead>\n",
       "    <tr style=\"text-align: right;\">\n",
       "      <th></th>\n",
       "      <th>price</th>\n",
       "      <th>speed</th>\n",
       "      <th>hd</th>\n",
       "      <th>ram</th>\n",
       "      <th>screen</th>\n",
       "      <th>cd</th>\n",
       "      <th>multi</th>\n",
       "      <th>premium</th>\n",
       "      <th>ads</th>\n",
       "      <th>trend</th>\n",
       "    </tr>\n",
       "  </thead>\n",
       "  <tbody>\n",
       "    <tr>\n",
       "      <th>0</th>\n",
       "      <td>1499</td>\n",
       "      <td>25</td>\n",
       "      <td>80</td>\n",
       "      <td>4</td>\n",
       "      <td>14</td>\n",
       "      <td>no</td>\n",
       "      <td>no</td>\n",
       "      <td>yes</td>\n",
       "      <td>94</td>\n",
       "      <td>1</td>\n",
       "    </tr>\n",
       "    <tr>\n",
       "      <th>1</th>\n",
       "      <td>1795</td>\n",
       "      <td>33</td>\n",
       "      <td>85</td>\n",
       "      <td>2</td>\n",
       "      <td>14</td>\n",
       "      <td>no</td>\n",
       "      <td>no</td>\n",
       "      <td>yes</td>\n",
       "      <td>94</td>\n",
       "      <td>1</td>\n",
       "    </tr>\n",
       "    <tr>\n",
       "      <th>2</th>\n",
       "      <td>1595</td>\n",
       "      <td>25</td>\n",
       "      <td>170</td>\n",
       "      <td>4</td>\n",
       "      <td>15</td>\n",
       "      <td>no</td>\n",
       "      <td>no</td>\n",
       "      <td>yes</td>\n",
       "      <td>94</td>\n",
       "      <td>1</td>\n",
       "    </tr>\n",
       "    <tr>\n",
       "      <th>3</th>\n",
       "      <td>1849</td>\n",
       "      <td>25</td>\n",
       "      <td>170</td>\n",
       "      <td>8</td>\n",
       "      <td>14</td>\n",
       "      <td>no</td>\n",
       "      <td>no</td>\n",
       "      <td>no</td>\n",
       "      <td>94</td>\n",
       "      <td>1</td>\n",
       "    </tr>\n",
       "    <tr>\n",
       "      <th>4</th>\n",
       "      <td>3295</td>\n",
       "      <td>33</td>\n",
       "      <td>340</td>\n",
       "      <td>16</td>\n",
       "      <td>14</td>\n",
       "      <td>no</td>\n",
       "      <td>no</td>\n",
       "      <td>yes</td>\n",
       "      <td>94</td>\n",
       "      <td>1</td>\n",
       "    </tr>\n",
       "    <tr>\n",
       "      <th>...</th>\n",
       "      <td>...</td>\n",
       "      <td>...</td>\n",
       "      <td>...</td>\n",
       "      <td>...</td>\n",
       "      <td>...</td>\n",
       "      <td>...</td>\n",
       "      <td>...</td>\n",
       "      <td>...</td>\n",
       "      <td>...</td>\n",
       "      <td>...</td>\n",
       "    </tr>\n",
       "    <tr>\n",
       "      <th>6254</th>\n",
       "      <td>1690</td>\n",
       "      <td>100</td>\n",
       "      <td>528</td>\n",
       "      <td>8</td>\n",
       "      <td>15</td>\n",
       "      <td>no</td>\n",
       "      <td>no</td>\n",
       "      <td>yes</td>\n",
       "      <td>39</td>\n",
       "      <td>35</td>\n",
       "    </tr>\n",
       "    <tr>\n",
       "      <th>6255</th>\n",
       "      <td>2223</td>\n",
       "      <td>66</td>\n",
       "      <td>850</td>\n",
       "      <td>16</td>\n",
       "      <td>15</td>\n",
       "      <td>yes</td>\n",
       "      <td>yes</td>\n",
       "      <td>yes</td>\n",
       "      <td>39</td>\n",
       "      <td>35</td>\n",
       "    </tr>\n",
       "    <tr>\n",
       "      <th>6256</th>\n",
       "      <td>2654</td>\n",
       "      <td>100</td>\n",
       "      <td>1200</td>\n",
       "      <td>24</td>\n",
       "      <td>15</td>\n",
       "      <td>yes</td>\n",
       "      <td>no</td>\n",
       "      <td>yes</td>\n",
       "      <td>39</td>\n",
       "      <td>35</td>\n",
       "    </tr>\n",
       "    <tr>\n",
       "      <th>6257</th>\n",
       "      <td>2195</td>\n",
       "      <td>100</td>\n",
       "      <td>850</td>\n",
       "      <td>16</td>\n",
       "      <td>15</td>\n",
       "      <td>yes</td>\n",
       "      <td>no</td>\n",
       "      <td>yes</td>\n",
       "      <td>39</td>\n",
       "      <td>35</td>\n",
       "    </tr>\n",
       "    <tr>\n",
       "      <th>6258</th>\n",
       "      <td>2490</td>\n",
       "      <td>100</td>\n",
       "      <td>850</td>\n",
       "      <td>16</td>\n",
       "      <td>17</td>\n",
       "      <td>yes</td>\n",
       "      <td>no</td>\n",
       "      <td>yes</td>\n",
       "      <td>39</td>\n",
       "      <td>35</td>\n",
       "    </tr>\n",
       "  </tbody>\n",
       "</table>\n",
       "<p>6183 rows × 10 columns</p>\n",
       "</div>"
      ],
      "text/plain": [
       "      price  speed    hd  ram  screen   cd multi premium  ads  trend\n",
       "0      1499     25    80    4      14   no    no     yes   94      1\n",
       "1      1795     33    85    2      14   no    no     yes   94      1\n",
       "2      1595     25   170    4      15   no    no     yes   94      1\n",
       "3      1849     25   170    8      14   no    no      no   94      1\n",
       "4      3295     33   340   16      14   no    no     yes   94      1\n",
       "...     ...    ...   ...  ...     ...  ...   ...     ...  ...    ...\n",
       "6254   1690    100   528    8      15   no    no     yes   39     35\n",
       "6255   2223     66   850   16      15  yes   yes     yes   39     35\n",
       "6256   2654    100  1200   24      15  yes    no     yes   39     35\n",
       "6257   2195    100   850   16      15  yes    no     yes   39     35\n",
       "6258   2490    100   850   16      17  yes    no     yes   39     35\n",
       "\n",
       "[6183 rows x 10 columns]"
      ]
     },
     "execution_count": 34,
     "metadata": {},
     "output_type": "execute_result"
    }
   ],
   "source": [
    "ComPricesData.drop_duplicates()"
   ]
  },
  {
   "cell_type": "code",
   "execution_count": 35,
   "id": "ee039060",
   "metadata": {},
   "outputs": [
    {
     "data": {
      "text/html": [
       "<div>\n",
       "<style scoped>\n",
       "    .dataframe tbody tr th:only-of-type {\n",
       "        vertical-align: middle;\n",
       "    }\n",
       "\n",
       "    .dataframe tbody tr th {\n",
       "        vertical-align: top;\n",
       "    }\n",
       "\n",
       "    .dataframe thead th {\n",
       "        text-align: right;\n",
       "    }\n",
       "</style>\n",
       "<table border=\"1\" class=\"dataframe\">\n",
       "  <thead>\n",
       "    <tr style=\"text-align: right;\">\n",
       "      <th></th>\n",
       "      <th>price</th>\n",
       "      <th>speed</th>\n",
       "      <th>hd</th>\n",
       "      <th>ram</th>\n",
       "      <th>screen</th>\n",
       "      <th>cd</th>\n",
       "      <th>multi</th>\n",
       "      <th>premium</th>\n",
       "      <th>ads</th>\n",
       "      <th>trend</th>\n",
       "    </tr>\n",
       "  </thead>\n",
       "  <tbody>\n",
       "    <tr>\n",
       "      <th>0</th>\n",
       "      <td>1499</td>\n",
       "      <td>25</td>\n",
       "      <td>80</td>\n",
       "      <td>4</td>\n",
       "      <td>14</td>\n",
       "      <td>no</td>\n",
       "      <td>no</td>\n",
       "      <td>yes</td>\n",
       "      <td>94</td>\n",
       "      <td>1</td>\n",
       "    </tr>\n",
       "    <tr>\n",
       "      <th>1</th>\n",
       "      <td>1795</td>\n",
       "      <td>33</td>\n",
       "      <td>85</td>\n",
       "      <td>2</td>\n",
       "      <td>14</td>\n",
       "      <td>no</td>\n",
       "      <td>no</td>\n",
       "      <td>yes</td>\n",
       "      <td>94</td>\n",
       "      <td>1</td>\n",
       "    </tr>\n",
       "    <tr>\n",
       "      <th>2</th>\n",
       "      <td>1595</td>\n",
       "      <td>25</td>\n",
       "      <td>170</td>\n",
       "      <td>4</td>\n",
       "      <td>15</td>\n",
       "      <td>no</td>\n",
       "      <td>no</td>\n",
       "      <td>yes</td>\n",
       "      <td>94</td>\n",
       "      <td>1</td>\n",
       "    </tr>\n",
       "    <tr>\n",
       "      <th>3</th>\n",
       "      <td>1849</td>\n",
       "      <td>25</td>\n",
       "      <td>170</td>\n",
       "      <td>8</td>\n",
       "      <td>14</td>\n",
       "      <td>no</td>\n",
       "      <td>no</td>\n",
       "      <td>no</td>\n",
       "      <td>94</td>\n",
       "      <td>1</td>\n",
       "    </tr>\n",
       "    <tr>\n",
       "      <th>4</th>\n",
       "      <td>3295</td>\n",
       "      <td>33</td>\n",
       "      <td>340</td>\n",
       "      <td>16</td>\n",
       "      <td>14</td>\n",
       "      <td>no</td>\n",
       "      <td>no</td>\n",
       "      <td>yes</td>\n",
       "      <td>94</td>\n",
       "      <td>1</td>\n",
       "    </tr>\n",
       "  </tbody>\n",
       "</table>\n",
       "</div>"
      ],
      "text/plain": [
       "   price  speed   hd  ram  screen  cd multi premium  ads  trend\n",
       "0   1499     25   80    4      14  no    no     yes   94      1\n",
       "1   1795     33   85    2      14  no    no     yes   94      1\n",
       "2   1595     25  170    4      15  no    no     yes   94      1\n",
       "3   1849     25  170    8      14  no    no      no   94      1\n",
       "4   3295     33  340   16      14  no    no     yes   94      1"
      ]
     },
     "execution_count": 35,
     "metadata": {},
     "output_type": "execute_result"
    }
   ],
   "source": [
    "ComPricesData.head()"
   ]
  },
  {
   "cell_type": "markdown",
   "id": "413f3b60",
   "metadata": {},
   "source": [
    "# Data Description"
   ]
  },
  {
   "cell_type": "raw",
   "id": "027bbf76",
   "metadata": {},
   "source": [
    "price: The Price of the computer\n",
    "speed: The speed\n",
    "hd: How much hard drive is present\n",
    "ram: How much ram is present in the computer\n",
    "screen: The screen size\n",
    "cd: Whether CD player is present or not\n",
    "multi: Are there multiple ports or not\n",
    "premium: If the computer premium quality\n",
    "ads: The ads value of the computer\n",
    "trend: The trend value of the computer"
   ]
  },
  {
   "cell_type": "code",
   "execution_count": 36,
   "id": "1ded957b",
   "metadata": {},
   "outputs": [],
   "source": [
    "ComPricesData.rename(columns={'hd':'Hard Drive',\n",
    "                             'multi':'Multiple Ports'},inplace=True)"
   ]
  },
  {
   "cell_type": "code",
   "execution_count": 37,
   "id": "083b523c",
   "metadata": {},
   "outputs": [
    {
     "data": {
      "text/html": [
       "<div>\n",
       "<style scoped>\n",
       "    .dataframe tbody tr th:only-of-type {\n",
       "        vertical-align: middle;\n",
       "    }\n",
       "\n",
       "    .dataframe tbody tr th {\n",
       "        vertical-align: top;\n",
       "    }\n",
       "\n",
       "    .dataframe thead th {\n",
       "        text-align: right;\n",
       "    }\n",
       "</style>\n",
       "<table border=\"1\" class=\"dataframe\">\n",
       "  <thead>\n",
       "    <tr style=\"text-align: right;\">\n",
       "      <th></th>\n",
       "      <th>price</th>\n",
       "      <th>speed</th>\n",
       "      <th>Hard Drive</th>\n",
       "      <th>ram</th>\n",
       "      <th>screen</th>\n",
       "      <th>cd</th>\n",
       "      <th>Multiple Ports</th>\n",
       "      <th>premium</th>\n",
       "      <th>ads</th>\n",
       "      <th>trend</th>\n",
       "    </tr>\n",
       "  </thead>\n",
       "  <tbody>\n",
       "    <tr>\n",
       "      <th>0</th>\n",
       "      <td>1499</td>\n",
       "      <td>25</td>\n",
       "      <td>80</td>\n",
       "      <td>4</td>\n",
       "      <td>14</td>\n",
       "      <td>no</td>\n",
       "      <td>no</td>\n",
       "      <td>yes</td>\n",
       "      <td>94</td>\n",
       "      <td>1</td>\n",
       "    </tr>\n",
       "    <tr>\n",
       "      <th>1</th>\n",
       "      <td>1795</td>\n",
       "      <td>33</td>\n",
       "      <td>85</td>\n",
       "      <td>2</td>\n",
       "      <td>14</td>\n",
       "      <td>no</td>\n",
       "      <td>no</td>\n",
       "      <td>yes</td>\n",
       "      <td>94</td>\n",
       "      <td>1</td>\n",
       "    </tr>\n",
       "    <tr>\n",
       "      <th>2</th>\n",
       "      <td>1595</td>\n",
       "      <td>25</td>\n",
       "      <td>170</td>\n",
       "      <td>4</td>\n",
       "      <td>15</td>\n",
       "      <td>no</td>\n",
       "      <td>no</td>\n",
       "      <td>yes</td>\n",
       "      <td>94</td>\n",
       "      <td>1</td>\n",
       "    </tr>\n",
       "    <tr>\n",
       "      <th>3</th>\n",
       "      <td>1849</td>\n",
       "      <td>25</td>\n",
       "      <td>170</td>\n",
       "      <td>8</td>\n",
       "      <td>14</td>\n",
       "      <td>no</td>\n",
       "      <td>no</td>\n",
       "      <td>no</td>\n",
       "      <td>94</td>\n",
       "      <td>1</td>\n",
       "    </tr>\n",
       "    <tr>\n",
       "      <th>4</th>\n",
       "      <td>3295</td>\n",
       "      <td>33</td>\n",
       "      <td>340</td>\n",
       "      <td>16</td>\n",
       "      <td>14</td>\n",
       "      <td>no</td>\n",
       "      <td>no</td>\n",
       "      <td>yes</td>\n",
       "      <td>94</td>\n",
       "      <td>1</td>\n",
       "    </tr>\n",
       "  </tbody>\n",
       "</table>\n",
       "</div>"
      ],
      "text/plain": [
       "   price  speed  Hard Drive  ram  screen  cd Multiple Ports premium  ads  \\\n",
       "0   1499     25          80    4      14  no             no     yes   94   \n",
       "1   1795     33          85    2      14  no             no     yes   94   \n",
       "2   1595     25         170    4      15  no             no     yes   94   \n",
       "3   1849     25         170    8      14  no             no      no   94   \n",
       "4   3295     33         340   16      14  no             no     yes   94   \n",
       "\n",
       "   trend  \n",
       "0      1  \n",
       "1      1  \n",
       "2      1  \n",
       "3      1  \n",
       "4      1  "
      ]
     },
     "execution_count": 37,
     "metadata": {},
     "output_type": "execute_result"
    }
   ],
   "source": [
    "ComPricesData.head()"
   ]
  },
  {
   "cell_type": "code",
   "execution_count": 38,
   "id": "4d835bfe",
   "metadata": {},
   "outputs": [
    {
     "data": {
      "text/plain": [
       "price             808\n",
       "speed               6\n",
       "Hard Drive         59\n",
       "ram                 6\n",
       "screen              3\n",
       "cd                  2\n",
       "Multiple Ports      2\n",
       "premium             2\n",
       "ads                34\n",
       "trend              35\n",
       "dtype: int64"
      ]
     },
     "execution_count": 38,
     "metadata": {},
     "output_type": "execute_result"
    }
   ],
   "source": [
    "ComPricesData.nunique()"
   ]
  },
  {
   "cell_type": "markdown",
   "id": "5df44faa",
   "metadata": {},
   "source": [
    "# Basic Data Exploration"
   ]
  },
  {
   "cell_type": "raw",
   "id": "4a541c82",
   "metadata": {},
   "source": [
    "price:Continous.Selected(Target Variable)\n",
    "speed:Continous.Selected.\n",
    "Hard Drive:Continous.Selected\n",
    "Ram:Categorical.Selected.\n",
    "Screen:Categorical.Selected.\n",
    "CD:Categorical.Selected.\n",
    "Multiple Ports:Categorical,Selected.\n",
    "Premimum:Categorical,Selected.\n",
    "Ads:Continous,Selected.\n",
    "trend:Continous,Selected."
   ]
  },
  {
   "cell_type": "markdown",
   "id": "24bda62d",
   "metadata": {},
   "source": [
    "# Data Distribution for Target Variable"
   ]
  },
  {
   "cell_type": "code",
   "execution_count": 39,
   "id": "24b2ab69",
   "metadata": {},
   "outputs": [
    {
     "data": {
      "text/plain": [
       "<AxesSubplot:>"
      ]
     },
     "execution_count": 39,
     "metadata": {},
     "output_type": "execute_result"
    },
    {
     "data": {
      "image/png": "[encoded data removed]",
      "text/plain": [
       "<Figure size 432x288 with 1 Axes>"
      ]
     },
     "metadata": {
      "needs_background": "light"
     },
     "output_type": "display_data"
    }
   ],
   "source": [
    "ComPricesData['price'].hist(color='green')"
   ]
  },
  {
   "cell_type": "raw",
   "id": "778834b9",
   "metadata": {},
   "source": [
    "The Distribution is Satisfactory for target variable,proceed further"
   ]
  },
  {
   "cell_type": "markdown",
   "id": "a9cbfde4",
   "metadata": {},
   "source": [
    "# Visual Explotary Data Analysis"
   ]
  },
  {
   "cell_type": "markdown",
   "id": "ec8680a2",
   "metadata": {},
   "source": [
    "# For Continous VS Continous(Target VS Predictor)"
   ]
  },
  {
   "cell_type": "code",
   "execution_count": 40,
   "id": "f2511251",
   "metadata": {},
   "outputs": [],
   "source": [
    "Conticol=['speed','Hard Drive','ads','trend']"
   ]
  },
  {
   "cell_type": "code",
   "execution_count": 41,
   "id": "8fcee150",
   "metadata": {},
   "outputs": [
    {
     "data": {
      "text/plain": [
       "array([[<AxesSubplot:title={'center':'speed'}>,\n",
       "        <AxesSubplot:title={'center':'Hard Drive'}>],\n",
       "       [<AxesSubplot:title={'center':'ads'}>,\n",
       "        <AxesSubplot:title={'center':'trend'}>]], dtype=object)"
      ]
     },
     "execution_count": 41,
     "metadata": {},
     "output_type": "execute_result"
    },
    {
     "data": {
      "image/png": "[encoded data removed]",
      "text/plain": [
       "<Figure size 1296x720 with 4 Axes>"
      ]
     },
     "metadata": {
      "needs_background": "light"
     },
     "output_type": "display_data"
    }
   ],
   "source": [
    "ComPricesData.hist(Conticol,figsize=(18,10),color='green')"
   ]
  },
  {
   "cell_type": "markdown",
   "id": "8a59794e",
   "metadata": {},
   "source": [
    "# Histogram Results"
   ]
  },
  {
   "cell_type": "markdown",
   "id": "42225310",
   "metadata": {},
   "source": [
    "Every Continous Predictors has satisfactory distribution for ML."
   ]
  },
  {
   "cell_type": "markdown",
   "id": "d67bdbb2",
   "metadata": {},
   "source": [
    "# Categorical VS Continous(Target VS Predictors)"
   ]
  },
  {
   "cell_type": "code",
   "execution_count": 42,
   "id": "69ece0fd",
   "metadata": {},
   "outputs": [
    {
     "data": {
      "text/html": [
       "<div>\n",
       "<style scoped>\n",
       "    .dataframe tbody tr th:only-of-type {\n",
       "        vertical-align: middle;\n",
       "    }\n",
       "\n",
       "    .dataframe tbody tr th {\n",
       "        vertical-align: top;\n",
       "    }\n",
       "\n",
       "    .dataframe thead th {\n",
       "        text-align: right;\n",
       "    }\n",
       "</style>\n",
       "<table border=\"1\" class=\"dataframe\">\n",
       "  <thead>\n",
       "    <tr style=\"text-align: right;\">\n",
       "      <th></th>\n",
       "      <th>price</th>\n",
       "      <th>speed</th>\n",
       "      <th>Hard Drive</th>\n",
       "      <th>ram</th>\n",
       "      <th>screen</th>\n",
       "      <th>cd</th>\n",
       "      <th>Multiple Ports</th>\n",
       "      <th>premium</th>\n",
       "      <th>ads</th>\n",
       "      <th>trend</th>\n",
       "    </tr>\n",
       "  </thead>\n",
       "  <tbody>\n",
       "    <tr>\n",
       "      <th>0</th>\n",
       "      <td>1499</td>\n",
       "      <td>25</td>\n",
       "      <td>80</td>\n",
       "      <td>4</td>\n",
       "      <td>14</td>\n",
       "      <td>no</td>\n",
       "      <td>no</td>\n",
       "      <td>yes</td>\n",
       "      <td>94</td>\n",
       "      <td>1</td>\n",
       "    </tr>\n",
       "    <tr>\n",
       "      <th>1</th>\n",
       "      <td>1795</td>\n",
       "      <td>33</td>\n",
       "      <td>85</td>\n",
       "      <td>2</td>\n",
       "      <td>14</td>\n",
       "      <td>no</td>\n",
       "      <td>no</td>\n",
       "      <td>yes</td>\n",
       "      <td>94</td>\n",
       "      <td>1</td>\n",
       "    </tr>\n",
       "    <tr>\n",
       "      <th>2</th>\n",
       "      <td>1595</td>\n",
       "      <td>25</td>\n",
       "      <td>170</td>\n",
       "      <td>4</td>\n",
       "      <td>15</td>\n",
       "      <td>no</td>\n",
       "      <td>no</td>\n",
       "      <td>yes</td>\n",
       "      <td>94</td>\n",
       "      <td>1</td>\n",
       "    </tr>\n",
       "    <tr>\n",
       "      <th>3</th>\n",
       "      <td>1849</td>\n",
       "      <td>25</td>\n",
       "      <td>170</td>\n",
       "      <td>8</td>\n",
       "      <td>14</td>\n",
       "      <td>no</td>\n",
       "      <td>no</td>\n",
       "      <td>no</td>\n",
       "      <td>94</td>\n",
       "      <td>1</td>\n",
       "    </tr>\n",
       "    <tr>\n",
       "      <th>4</th>\n",
       "      <td>3295</td>\n",
       "      <td>33</td>\n",
       "      <td>340</td>\n",
       "      <td>16</td>\n",
       "      <td>14</td>\n",
       "      <td>no</td>\n",
       "      <td>no</td>\n",
       "      <td>yes</td>\n",
       "      <td>94</td>\n",
       "      <td>1</td>\n",
       "    </tr>\n",
       "  </tbody>\n",
       "</table>\n",
       "</div>"
      ],
      "text/plain": [
       "   price  speed  Hard Drive  ram  screen  cd Multiple Ports premium  ads  \\\n",
       "0   1499     25          80    4      14  no             no     yes   94   \n",
       "1   1795     33          85    2      14  no             no     yes   94   \n",
       "2   1595     25         170    4      15  no             no     yes   94   \n",
       "3   1849     25         170    8      14  no             no      no   94   \n",
       "4   3295     33         340   16      14  no             no     yes   94   \n",
       "\n",
       "   trend  \n",
       "0      1  \n",
       "1      1  \n",
       "2      1  \n",
       "3      1  \n",
       "4      1  "
      ]
     },
     "execution_count": 42,
     "metadata": {},
     "output_type": "execute_result"
    }
   ],
   "source": [
    "ComPricesData.head()"
   ]
  },
  {
   "cell_type": "code",
   "execution_count": 43,
   "id": "673449f6",
   "metadata": {},
   "outputs": [],
   "source": [
    "Catcol1=['ram','cd','screen','Multiple Ports','premium']"
   ]
  },
  {
   "cell_type": "code",
   "execution_count": 44,
   "id": "7cdb9b8e",
   "metadata": {},
   "outputs": [],
   "source": [
    "def CatCol(inpdata,CaCol):\n",
    "    import matplotlib.pyplot as plt\n",
    "    \n",
    "    fig,subplot=plt.subplots(nrows=1,ncols=len(CaCol),figsize=(10,5))\n",
    "    fig.suptitle('Bar Charts of:'+str(CaCol))\n",
    "    \n",
    "    \n",
    "    for colname,plotnumber in zip(CaCol,range(len(CaCol))):\n",
    "        inpdata.groupby(colname).size().plot(kind='bar',ax=subplot[plotnumber])"
   ]
  },
  {
   "cell_type": "code",
   "execution_count": 45,
   "id": "f09036d0",
   "metadata": {},
   "outputs": [
    {
     "data": {
      "image/png": "[encoded data removed]",
      "text/plain": [
       "<Figure size 720x360 with 5 Axes>"
      ]
     },
     "metadata": {
      "needs_background": "light"
     },
     "output_type": "display_data"
    }
   ],
   "source": [
    "CatCol(ComPricesData,Catcol1)"
   ]
  },
  {
   "cell_type": "markdown",
   "id": "650edc77",
   "metadata": {},
   "source": [
    "# Bar Charts Results"
   ]
  },
  {
   "cell_type": "raw",
   "id": "383a48f0",
   "metadata": {},
   "source": [
    "In the ideal bar chart each category has comparable frequency. Hence, there are enough rows for each category in the data for the ML algorithm to learn."
   ]
  },
  {
   "cell_type": "markdown",
   "id": "1e8f86b3",
   "metadata": {},
   "source": [
    "# Missing Values"
   ]
  },
  {
   "cell_type": "code",
   "execution_count": 46,
   "id": "2fdd5fe6",
   "metadata": {},
   "outputs": [
    {
     "name": "stdout",
     "output_type": "stream",
     "text": [
      "price             0\n",
      "speed             0\n",
      "Hard Drive        0\n",
      "ram               0\n",
      "screen            0\n",
      "cd                0\n",
      "Multiple Ports    0\n",
      "premium           0\n",
      "ads               0\n",
      "trend             0\n",
      "dtype: int64\n"
     ]
    }
   ],
   "source": [
    "print(ComPricesData.isnull().sum())"
   ]
  },
  {
   "cell_type": "raw",
   "id": "99ba7fa7",
   "metadata": {},
   "source": [
    "No Missing Values Found"
   ]
  },
  {
   "cell_type": "markdown",
   "id": "c708b8c7",
   "metadata": {},
   "source": [
    "# Outliers Treatment"
   ]
  },
  {
   "cell_type": "raw",
   "id": "72bf3152",
   "metadata": {},
   "source": [
    "By observing histograms there is no such outliers present in data"
   ]
  },
  {
   "cell_type": "markdown",
   "id": "ed7795fc",
   "metadata": {},
   "source": [
    "# Feature Selection"
   ]
  },
  {
   "cell_type": "code",
   "execution_count": 47,
   "id": "f9232b43",
   "metadata": {},
   "outputs": [
    {
     "data": {
      "image/png": "[encoded data removed]",
      "text/plain": [
       "<Figure size 720x360 with 1 Axes>"
      ]
     },
     "metadata": {
      "needs_background": "light"
     },
     "output_type": "display_data"
    },
    {
     "data": {
      "image/png": "[encoded data removed]",
      "text/plain": [
       "<Figure size 720x360 with 1 Axes>"
      ]
     },
     "metadata": {
      "needs_background": "light"
     },
     "output_type": "display_data"
    },
    {
     "data": {
      "image/png": "[encoded data removed]",
      "text/plain": [
       "<Figure size 720x360 with 1 Axes>"
      ]
     },
     "metadata": {
      "needs_background": "light"
     },
     "output_type": "display_data"
    },
    {
     "data": {
      "image/png": "[encoded data removed]",
      "text/plain": [
       "<Figure size 720x360 with 1 Axes>"
      ]
     },
     "metadata": {
      "needs_background": "light"
     },
     "output_type": "display_data"
    }
   ],
   "source": [
    "conticol=['speed','Hard Drive','ads','trend']\n",
    "\n",
    "for conpredictor in conticol:\n",
    "    ComPricesData.plot.scatter(x=conpredictor,y='price',figsize=(10,5),title=conpredictor+\" \" +\"VS\"+\" \" \"price\")\n",
    "    "
   ]
  },
  {
   "cell_type": "code",
   "execution_count": 48,
   "id": "d6b3bbf4",
   "metadata": {},
   "outputs": [
    {
     "data": {
      "text/html": [
       "<div>\n",
       "<style scoped>\n",
       "    .dataframe tbody tr th:only-of-type {\n",
       "        vertical-align: middle;\n",
       "    }\n",
       "\n",
       "    .dataframe tbody tr th {\n",
       "        vertical-align: top;\n",
       "    }\n",
       "\n",
       "    .dataframe thead th {\n",
       "        text-align: right;\n",
       "    }\n",
       "</style>\n",
       "<table border=\"1\" class=\"dataframe\">\n",
       "  <thead>\n",
       "    <tr style=\"text-align: right;\">\n",
       "      <th></th>\n",
       "      <th>price</th>\n",
       "      <th>speed</th>\n",
       "      <th>Hard Drive</th>\n",
       "      <th>ads</th>\n",
       "      <th>trend</th>\n",
       "    </tr>\n",
       "  </thead>\n",
       "  <tbody>\n",
       "    <tr>\n",
       "      <th>price</th>\n",
       "      <td>1.00</td>\n",
       "      <td>0.30</td>\n",
       "      <td>0.43</td>\n",
       "      <td>0.05</td>\n",
       "      <td>-0.20</td>\n",
       "    </tr>\n",
       "    <tr>\n",
       "      <th>speed</th>\n",
       "      <td>0.30</td>\n",
       "      <td>1.00</td>\n",
       "      <td>0.37</td>\n",
       "      <td>-0.22</td>\n",
       "      <td>0.41</td>\n",
       "    </tr>\n",
       "    <tr>\n",
       "      <th>Hard Drive</th>\n",
       "      <td>0.43</td>\n",
       "      <td>0.37</td>\n",
       "      <td>1.00</td>\n",
       "      <td>-0.32</td>\n",
       "      <td>0.58</td>\n",
       "    </tr>\n",
       "    <tr>\n",
       "      <th>ads</th>\n",
       "      <td>0.05</td>\n",
       "      <td>-0.22</td>\n",
       "      <td>-0.32</td>\n",
       "      <td>1.00</td>\n",
       "      <td>-0.32</td>\n",
       "    </tr>\n",
       "    <tr>\n",
       "      <th>trend</th>\n",
       "      <td>-0.20</td>\n",
       "      <td>0.41</td>\n",
       "      <td>0.58</td>\n",
       "      <td>-0.32</td>\n",
       "      <td>1.00</td>\n",
       "    </tr>\n",
       "  </tbody>\n",
       "</table>\n",
       "</div>"
      ],
      "text/plain": [
       "            price  speed  Hard Drive   ads  trend\n",
       "price        1.00   0.30        0.43  0.05  -0.20\n",
       "speed        0.30   1.00        0.37 -0.22   0.41\n",
       "Hard Drive   0.43   0.37        1.00 -0.32   0.58\n",
       "ads          0.05  -0.22       -0.32  1.00  -0.32\n",
       "trend       -0.20   0.41        0.58 -0.32   1.00"
      ]
     },
     "execution_count": 48,
     "metadata": {},
     "output_type": "execute_result"
    }
   ],
   "source": [
    "conticol1=['price','speed','Hard Drive','ads','trend']\n",
    "subset=round(ComPricesData[conticol1].corr(),2)\n",
    "subset"
   ]
  },
  {
   "cell_type": "code",
   "execution_count": 49,
   "id": "ed5cfb1d",
   "metadata": {},
   "outputs": [
    {
     "data": {
      "text/plain": [
       "price         1.00\n",
       "speed         0.30\n",
       "Hard Drive    0.43\n",
       "trend        -0.20\n",
       "Name: price, dtype: float64"
      ]
     },
     "execution_count": 49,
     "metadata": {},
     "output_type": "execute_result"
    }
   ],
   "source": [
    "subset['price'][abs(subset['price'])>=0.2]"
   ]
  },
  {
   "cell_type": "raw",
   "id": "16f3c7ab",
   "metadata": {},
   "source": [
    "Final continous Predictors list[price,hard drive,trend]"
   ]
  },
  {
   "cell_type": "code",
   "execution_count": 50,
   "id": "4049451d",
   "metadata": {},
   "outputs": [
    {
     "data": {
      "image/png": "[encoded data removed]",
      "text/plain": [
       "<Figure size 720x360 with 5 Axes>"
      ]
     },
     "metadata": {
      "needs_background": "light"
     },
     "output_type": "display_data"
    }
   ],
   "source": [
    "catcol1=['ram','cd','screen','Multiple Ports','premium']\n",
    "import matplotlib.pyplot as plt\n",
    "\n",
    "fig,plotcanvas=plt.subplots(nrows=1,ncols=len(catcol1),figsize=(10,5))\n",
    "\n",
    "for catpredictor1,i in zip(catcol1,range(len(catcol1))):\n",
    "    ComPricesData.boxplot(column='price',by=catpredictor1,figsize=(10,5),vert=True,ax=plotcanvas[i])"
   ]
  },
  {
   "cell_type": "raw",
   "id": "2a71fc2e",
   "metadata": {},
   "source": [
    "Final Categorical Predictor list [ram,cd,screen,multiple ports,premium]"
   ]
  },
  {
   "cell_type": "code",
   "execution_count": 51,
   "id": "b5e2bf3e",
   "metadata": {},
   "outputs": [],
   "source": [
    "def FunctionAnova(inpData, TargetVariable, CategoricalPredictorList):\n",
    "    from scipy.stats import f_oneway\n",
    "    SelectedPredictors=[]\n",
    "    \n",
    "    print('##### ANOVA Results ##### \\n')\n",
    "    for predictor in CategoricalPredictorList:\n",
    "        CategoryGroupLists=inpData.groupby(predictor)[TargetVariable].apply(list)\n",
    "        AnovaResults = f_oneway(*CategoryGroupLists)\n",
    "        \n",
    "        if (AnovaResults[1] < 0.05):\n",
    "            print(predictor, 'is correlated with', TargetVariable, '| P-Value:', AnovaResults[1])\n",
    "            SelectedPredictors.append(predictor)\n",
    "        else:\n",
    "            print(predictor, 'is NOT correlated with', TargetVariable, '| P-Value:', AnovaResults[1])\n",
    "    \n",
    "    return(SelectedPredictors)"
   ]
  },
  {
   "cell_type": "code",
   "execution_count": 52,
   "id": "8dbada87",
   "metadata": {},
   "outputs": [
    {
     "name": "stdout",
     "output_type": "stream",
     "text": [
      "##### ANOVA Results ##### \n",
      "\n",
      "ram is correlated with price | P-Value: 0.0\n",
      "cd is correlated with price | P-Value: 5.439449136508735e-56\n",
      "screen is correlated with price | P-Value: 1.7979337838597882e-132\n",
      "Multiple Ports is NOT correlated with price | P-Value: 0.1877771427064562\n",
      "premium is correlated with price | P-Value: 1.6228830638522487e-10\n"
     ]
    },
    {
     "data": {
      "text/plain": [
       "['ram', 'cd', 'screen', 'premium']"
      ]
     },
     "execution_count": 52,
     "metadata": {},
     "output_type": "execute_result"
    }
   ],
   "source": [
    "CategoricalPredictorList=['ram','cd','screen','Multiple Ports','premium']\n",
    "FunctionAnova(inpData=  ComPricesData, \n",
    "              TargetVariable='price', \n",
    "              CategoricalPredictorList=CategoricalPredictorList)"
   ]
  },
  {
   "cell_type": "markdown",
   "id": "ee6c67ae",
   "metadata": {},
   "source": [
    "# Final Selected Columns for ML"
   ]
  },
  {
   "cell_type": "code",
   "execution_count": 53,
   "id": "59f1e2f5",
   "metadata": {},
   "outputs": [
    {
     "data": {
      "text/html": [
       "<div>\n",
       "<style scoped>\n",
       "    .dataframe tbody tr th:only-of-type {\n",
       "        vertical-align: middle;\n",
       "    }\n",
       "\n",
       "    .dataframe tbody tr th {\n",
       "        vertical-align: top;\n",
       "    }\n",
       "\n",
       "    .dataframe thead th {\n",
       "        text-align: right;\n",
       "    }\n",
       "</style>\n",
       "<table border=\"1\" class=\"dataframe\">\n",
       "  <thead>\n",
       "    <tr style=\"text-align: right;\">\n",
       "      <th></th>\n",
       "      <th>ram</th>\n",
       "      <th>cd</th>\n",
       "      <th>screen</th>\n",
       "      <th>premium</th>\n",
       "      <th>speed</th>\n",
       "      <th>Hard Drive</th>\n",
       "      <th>trend</th>\n",
       "    </tr>\n",
       "  </thead>\n",
       "  <tbody>\n",
       "    <tr>\n",
       "      <th>0</th>\n",
       "      <td>4</td>\n",
       "      <td>no</td>\n",
       "      <td>14</td>\n",
       "      <td>yes</td>\n",
       "      <td>25</td>\n",
       "      <td>80</td>\n",
       "      <td>1</td>\n",
       "    </tr>\n",
       "    <tr>\n",
       "      <th>1</th>\n",
       "      <td>2</td>\n",
       "      <td>no</td>\n",
       "      <td>14</td>\n",
       "      <td>yes</td>\n",
       "      <td>33</td>\n",
       "      <td>85</td>\n",
       "      <td>1</td>\n",
       "    </tr>\n",
       "    <tr>\n",
       "      <th>2</th>\n",
       "      <td>4</td>\n",
       "      <td>no</td>\n",
       "      <td>15</td>\n",
       "      <td>yes</td>\n",
       "      <td>25</td>\n",
       "      <td>170</td>\n",
       "      <td>1</td>\n",
       "    </tr>\n",
       "    <tr>\n",
       "      <th>3</th>\n",
       "      <td>8</td>\n",
       "      <td>no</td>\n",
       "      <td>14</td>\n",
       "      <td>no</td>\n",
       "      <td>25</td>\n",
       "      <td>170</td>\n",
       "      <td>1</td>\n",
       "    </tr>\n",
       "    <tr>\n",
       "      <th>4</th>\n",
       "      <td>16</td>\n",
       "      <td>no</td>\n",
       "      <td>14</td>\n",
       "      <td>yes</td>\n",
       "      <td>33</td>\n",
       "      <td>340</td>\n",
       "      <td>1</td>\n",
       "    </tr>\n",
       "    <tr>\n",
       "      <th>5</th>\n",
       "      <td>16</td>\n",
       "      <td>no</td>\n",
       "      <td>14</td>\n",
       "      <td>yes</td>\n",
       "      <td>66</td>\n",
       "      <td>340</td>\n",
       "      <td>1</td>\n",
       "    </tr>\n",
       "    <tr>\n",
       "      <th>6</th>\n",
       "      <td>4</td>\n",
       "      <td>yes</td>\n",
       "      <td>14</td>\n",
       "      <td>yes</td>\n",
       "      <td>25</td>\n",
       "      <td>170</td>\n",
       "      <td>1</td>\n",
       "    </tr>\n",
       "    <tr>\n",
       "      <th>7</th>\n",
       "      <td>2</td>\n",
       "      <td>no</td>\n",
       "      <td>14</td>\n",
       "      <td>yes</td>\n",
       "      <td>50</td>\n",
       "      <td>85</td>\n",
       "      <td>1</td>\n",
       "    </tr>\n",
       "    <tr>\n",
       "      <th>8</th>\n",
       "      <td>8</td>\n",
       "      <td>no</td>\n",
       "      <td>14</td>\n",
       "      <td>yes</td>\n",
       "      <td>50</td>\n",
       "      <td>210</td>\n",
       "      <td>1</td>\n",
       "    </tr>\n",
       "    <tr>\n",
       "      <th>9</th>\n",
       "      <td>4</td>\n",
       "      <td>no</td>\n",
       "      <td>15</td>\n",
       "      <td>yes</td>\n",
       "      <td>50</td>\n",
       "      <td>210</td>\n",
       "      <td>1</td>\n",
       "    </tr>\n",
       "    <tr>\n",
       "      <th>10</th>\n",
       "      <td>8</td>\n",
       "      <td>no</td>\n",
       "      <td>15</td>\n",
       "      <td>yes</td>\n",
       "      <td>33</td>\n",
       "      <td>170</td>\n",
       "      <td>1</td>\n",
       "    </tr>\n",
       "    <tr>\n",
       "      <th>11</th>\n",
       "      <td>8</td>\n",
       "      <td>no</td>\n",
       "      <td>14</td>\n",
       "      <td>yes</td>\n",
       "      <td>66</td>\n",
       "      <td>210</td>\n",
       "      <td>1</td>\n",
       "    </tr>\n",
       "    <tr>\n",
       "      <th>12</th>\n",
       "      <td>4</td>\n",
       "      <td>no</td>\n",
       "      <td>14</td>\n",
       "      <td>yes</td>\n",
       "      <td>50</td>\n",
       "      <td>130</td>\n",
       "      <td>1</td>\n",
       "    </tr>\n",
       "    <tr>\n",
       "      <th>13</th>\n",
       "      <td>8</td>\n",
       "      <td>no</td>\n",
       "      <td>14</td>\n",
       "      <td>yes</td>\n",
       "      <td>25</td>\n",
       "      <td>245</td>\n",
       "      <td>1</td>\n",
       "    </tr>\n",
       "    <tr>\n",
       "      <th>14</th>\n",
       "      <td>8</td>\n",
       "      <td>no</td>\n",
       "      <td>14</td>\n",
       "      <td>yes</td>\n",
       "      <td>50</td>\n",
       "      <td>212</td>\n",
       "      <td>1</td>\n",
       "    </tr>\n",
       "    <tr>\n",
       "      <th>15</th>\n",
       "      <td>4</td>\n",
       "      <td>no</td>\n",
       "      <td>14</td>\n",
       "      <td>yes</td>\n",
       "      <td>50</td>\n",
       "      <td>130</td>\n",
       "      <td>1</td>\n",
       "    </tr>\n",
       "    <tr>\n",
       "      <th>16</th>\n",
       "      <td>2</td>\n",
       "      <td>no</td>\n",
       "      <td>14</td>\n",
       "      <td>yes</td>\n",
       "      <td>33</td>\n",
       "      <td>85</td>\n",
       "      <td>1</td>\n",
       "    </tr>\n",
       "    <tr>\n",
       "      <th>17</th>\n",
       "      <td>4</td>\n",
       "      <td>no</td>\n",
       "      <td>15</td>\n",
       "      <td>yes</td>\n",
       "      <td>33</td>\n",
       "      <td>210</td>\n",
       "      <td>1</td>\n",
       "    </tr>\n",
       "    <tr>\n",
       "      <th>18</th>\n",
       "      <td>4</td>\n",
       "      <td>no</td>\n",
       "      <td>15</td>\n",
       "      <td>yes</td>\n",
       "      <td>33</td>\n",
       "      <td>250</td>\n",
       "      <td>1</td>\n",
       "    </tr>\n",
       "    <tr>\n",
       "      <th>19</th>\n",
       "      <td>8</td>\n",
       "      <td>no</td>\n",
       "      <td>14</td>\n",
       "      <td>yes</td>\n",
       "      <td>66</td>\n",
       "      <td>452</td>\n",
       "      <td>1</td>\n",
       "    </tr>\n",
       "  </tbody>\n",
       "</table>\n",
       "</div>"
      ],
      "text/plain": [
       "    ram   cd  screen premium  speed  Hard Drive  trend\n",
       "0     4   no      14     yes     25          80      1\n",
       "1     2   no      14     yes     33          85      1\n",
       "2     4   no      15     yes     25         170      1\n",
       "3     8   no      14      no     25         170      1\n",
       "4    16   no      14     yes     33         340      1\n",
       "5    16   no      14     yes     66         340      1\n",
       "6     4  yes      14     yes     25         170      1\n",
       "7     2   no      14     yes     50          85      1\n",
       "8     8   no      14     yes     50         210      1\n",
       "9     4   no      15     yes     50         210      1\n",
       "10    8   no      15     yes     33         170      1\n",
       "11    8   no      14     yes     66         210      1\n",
       "12    4   no      14     yes     50         130      1\n",
       "13    8   no      14     yes     25         245      1\n",
       "14    8   no      14     yes     50         212      1\n",
       "15    4   no      14     yes     50         130      1\n",
       "16    2   no      14     yes     33          85      1\n",
       "17    4   no      15     yes     33         210      1\n",
       "18    4   no      15     yes     33         250      1\n",
       "19    8   no      14     yes     66         452      1"
      ]
     },
     "execution_count": 53,
     "metadata": {},
     "output_type": "execute_result"
    }
   ],
   "source": [
    "FinalColumn=['ram', 'cd', 'screen', 'premium','speed','Hard Drive','trend']\n",
    "Dataforml12=ComPricesData[FinalColumn]\n",
    "Dataforml12.head(20)"
   ]
  },
  {
   "cell_type": "code",
   "execution_count": 54,
   "id": "88bf7ccb",
   "metadata": {},
   "outputs": [],
   "source": [
    "Dataforml12.to_pickle('Dataforml12.pickle')"
   ]
  },
  {
   "cell_type": "markdown",
   "id": "389a5513",
   "metadata": {},
   "source": [
    "# Data Pre Processing For Model"
   ]
  },
  {
   "cell_type": "code",
   "execution_count": 55,
   "id": "75a1585b",
   "metadata": {},
   "outputs": [
    {
     "name": "stderr",
     "output_type": "stream",
     "text": [
      "C:\\Users\\DIP\\anaconda3\\lib\\site-packages\\pandas\\core\\series.py:4509: SettingWithCopyWarning: \n",
      "A value is trying to be set on a copy of a slice from a DataFrame\n",
      "\n",
      "See the caveats in the documentation: https://pandas.pydata.org/pandas-docs/stable/user_guide/indexing.html#returning-a-view-versus-a-copy\n",
      "  return super().replace(\n"
     ]
    }
   ],
   "source": [
    "Dataforml12['cd'].replace({'no':2,'yes':1},inplace=True)"
   ]
  },
  {
   "cell_type": "code",
   "execution_count": 56,
   "id": "203ffe8b",
   "metadata": {},
   "outputs": [],
   "source": [
    "Dataforml12['premium'].replace({'no':2,'yes':1},inplace=True)"
   ]
  },
  {
   "cell_type": "code",
   "execution_count": 57,
   "id": "3c02a7df",
   "metadata": {},
   "outputs": [
    {
     "data": {
      "text/html": [
       "<div>\n",
       "<style scoped>\n",
       "    .dataframe tbody tr th:only-of-type {\n",
       "        vertical-align: middle;\n",
       "    }\n",
       "\n",
       "    .dataframe tbody tr th {\n",
       "        vertical-align: top;\n",
       "    }\n",
       "\n",
       "    .dataframe thead th {\n",
       "        text-align: right;\n",
       "    }\n",
       "</style>\n",
       "<table border=\"1\" class=\"dataframe\">\n",
       "  <thead>\n",
       "    <tr style=\"text-align: right;\">\n",
       "      <th></th>\n",
       "      <th>ram</th>\n",
       "      <th>cd</th>\n",
       "      <th>screen</th>\n",
       "      <th>premium</th>\n",
       "      <th>speed</th>\n",
       "      <th>Hard Drive</th>\n",
       "      <th>trend</th>\n",
       "    </tr>\n",
       "  </thead>\n",
       "  <tbody>\n",
       "    <tr>\n",
       "      <th>0</th>\n",
       "      <td>4</td>\n",
       "      <td>2</td>\n",
       "      <td>14</td>\n",
       "      <td>1</td>\n",
       "      <td>25</td>\n",
       "      <td>80</td>\n",
       "      <td>1</td>\n",
       "    </tr>\n",
       "    <tr>\n",
       "      <th>1</th>\n",
       "      <td>2</td>\n",
       "      <td>2</td>\n",
       "      <td>14</td>\n",
       "      <td>1</td>\n",
       "      <td>33</td>\n",
       "      <td>85</td>\n",
       "      <td>1</td>\n",
       "    </tr>\n",
       "    <tr>\n",
       "      <th>2</th>\n",
       "      <td>4</td>\n",
       "      <td>2</td>\n",
       "      <td>15</td>\n",
       "      <td>1</td>\n",
       "      <td>25</td>\n",
       "      <td>170</td>\n",
       "      <td>1</td>\n",
       "    </tr>\n",
       "    <tr>\n",
       "      <th>3</th>\n",
       "      <td>8</td>\n",
       "      <td>2</td>\n",
       "      <td>14</td>\n",
       "      <td>2</td>\n",
       "      <td>25</td>\n",
       "      <td>170</td>\n",
       "      <td>1</td>\n",
       "    </tr>\n",
       "    <tr>\n",
       "      <th>4</th>\n",
       "      <td>16</td>\n",
       "      <td>2</td>\n",
       "      <td>14</td>\n",
       "      <td>1</td>\n",
       "      <td>33</td>\n",
       "      <td>340</td>\n",
       "      <td>1</td>\n",
       "    </tr>\n",
       "    <tr>\n",
       "      <th>5</th>\n",
       "      <td>16</td>\n",
       "      <td>2</td>\n",
       "      <td>14</td>\n",
       "      <td>1</td>\n",
       "      <td>66</td>\n",
       "      <td>340</td>\n",
       "      <td>1</td>\n",
       "    </tr>\n",
       "    <tr>\n",
       "      <th>6</th>\n",
       "      <td>4</td>\n",
       "      <td>1</td>\n",
       "      <td>14</td>\n",
       "      <td>1</td>\n",
       "      <td>25</td>\n",
       "      <td>170</td>\n",
       "      <td>1</td>\n",
       "    </tr>\n",
       "    <tr>\n",
       "      <th>7</th>\n",
       "      <td>2</td>\n",
       "      <td>2</td>\n",
       "      <td>14</td>\n",
       "      <td>1</td>\n",
       "      <td>50</td>\n",
       "      <td>85</td>\n",
       "      <td>1</td>\n",
       "    </tr>\n",
       "    <tr>\n",
       "      <th>8</th>\n",
       "      <td>8</td>\n",
       "      <td>2</td>\n",
       "      <td>14</td>\n",
       "      <td>1</td>\n",
       "      <td>50</td>\n",
       "      <td>210</td>\n",
       "      <td>1</td>\n",
       "    </tr>\n",
       "    <tr>\n",
       "      <th>9</th>\n",
       "      <td>4</td>\n",
       "      <td>2</td>\n",
       "      <td>15</td>\n",
       "      <td>1</td>\n",
       "      <td>50</td>\n",
       "      <td>210</td>\n",
       "      <td>1</td>\n",
       "    </tr>\n",
       "  </tbody>\n",
       "</table>\n",
       "</div>"
      ],
      "text/plain": [
       "   ram  cd  screen  premium  speed  Hard Drive  trend\n",
       "0    4   2      14        1     25          80      1\n",
       "1    2   2      14        1     33          85      1\n",
       "2    4   2      15        1     25         170      1\n",
       "3    8   2      14        2     25         170      1\n",
       "4   16   2      14        1     33         340      1\n",
       "5   16   2      14        1     66         340      1\n",
       "6    4   1      14        1     25         170      1\n",
       "7    2   2      14        1     50          85      1\n",
       "8    8   2      14        1     50         210      1\n",
       "9    4   2      15        1     50         210      1"
      ]
     },
     "execution_count": 57,
     "metadata": {},
     "output_type": "execute_result"
    }
   ],
   "source": [
    "Dataforml12.head(10)"
   ]
  },
  {
   "cell_type": "code",
   "execution_count": 58,
   "id": "1f5066ae",
   "metadata": {},
   "outputs": [
    {
     "name": "stderr",
     "output_type": "stream",
     "text": [
      "<ipython-input-58-fff94a2cb465>:1: SettingWithCopyWarning: \n",
      "A value is trying to be set on a copy of a slice from a DataFrame.\n",
      "Try using .loc[row_indexer,col_indexer] = value instead\n",
      "\n",
      "See the caveats in the documentation: https://pandas.pydata.org/pandas-docs/stable/user_guide/indexing.html#returning-a-view-versus-a-copy\n",
      "  Dataforml12['price']=ComPricesData['price']\n"
     ]
    }
   ],
   "source": [
    "Dataforml12['price']=ComPricesData['price']"
   ]
  },
  {
   "cell_type": "markdown",
   "id": "7a0e8db8",
   "metadata": {},
   "source": [
    "# Machine Learning: Splitting the data into Training and Testing sample"
   ]
  },
  {
   "cell_type": "code",
   "execution_count": 59,
   "id": "86644f90",
   "metadata": {},
   "outputs": [
    {
     "data": {
      "text/plain": [
       "Index(['ram', 'cd', 'screen', 'premium', 'speed', 'Hard Drive', 'trend',\n",
       "       'price'],\n",
       "      dtype='object')"
      ]
     },
     "execution_count": 59,
     "metadata": {},
     "output_type": "execute_result"
    }
   ],
   "source": [
    "Dataforml12.columns"
   ]
  },
  {
   "cell_type": "code",
   "execution_count": 60,
   "id": "ea500744",
   "metadata": {},
   "outputs": [],
   "source": [
    "Predictors=['ram', 'cd', 'screen', 'premium','speed','Hard Drive','trend']\n",
    "Target='price'"
   ]
  },
  {
   "cell_type": "code",
   "execution_count": 61,
   "id": "e37fa823",
   "metadata": {},
   "outputs": [],
   "source": [
    "X=Dataforml12[Predictors].values\n",
    "Y=Dataforml12[Target].values"
   ]
  },
  {
   "cell_type": "code",
   "execution_count": 62,
   "id": "682f1714",
   "metadata": {},
   "outputs": [],
   "source": [
    "from sklearn.model_selection import train_test_split\n",
    "X_train,X_test,Y_train,Y_test=train_test_split(X,Y,test_size=0.3,random_state=350)"
   ]
  },
  {
   "cell_type": "code",
   "execution_count": 63,
   "id": "fa4832e0",
   "metadata": {},
   "outputs": [
    {
     "data": {
      "text/plain": [
       "array([[ 16,   1,  14,   1,  50, 528,  17],\n",
       "       [  4,   2,  14,   1,  33, 130,   4],\n",
       "       [  4,   2,  14,   1,  25, 214,   9],\n",
       "       [  8,   2,  15,   1,  50, 212,  15]], dtype=int64)"
      ]
     },
     "execution_count": 63,
     "metadata": {},
     "output_type": "execute_result"
    }
   ],
   "source": [
    "np.set_printoptions(suppress=True)\n",
    "X_train[0:4]\n"
   ]
  },
  {
   "cell_type": "code",
   "execution_count": 64,
   "id": "d09b5c82",
   "metadata": {},
   "outputs": [
    {
     "data": {
      "text/plain": [
       "array([2495, 2090, 1944, 2225], dtype=int64)"
      ]
     },
     "execution_count": 64,
     "metadata": {},
     "output_type": "execute_result"
    }
   ],
   "source": [
    "Y_train[0:4]"
   ]
  },
  {
   "cell_type": "code",
   "execution_count": 65,
   "id": "a7899025",
   "metadata": {},
   "outputs": [],
   "source": [
    "from sklearn.preprocessing import StandardScaler, MinMaxScaler\n",
    "\n",
    "PredictorScaler=MinMaxScaler()\n",
    "\n",
    "\n",
    "PredictorScalerFit=PredictorScaler.fit(X)\n",
    "\n",
    "\n",
    "X=PredictorScalerFit.transform(X)\n",
    "\n",
    "\n",
    "from sklearn.model_selection import train_test_split\n",
    "X_train, X_test, Y_train, Y_test = train_test_split(X, Y, test_size=0.3, random_state=410)"
   ]
  },
  {
   "cell_type": "code",
   "execution_count": 66,
   "id": "de7b4cb2",
   "metadata": {},
   "outputs": [
    {
     "name": "stdout",
     "output_type": "stream",
     "text": [
      "(4381, 7)\n",
      "(4381,)\n",
      "(1878, 7)\n",
      "(1878,)\n"
     ]
    }
   ],
   "source": [
    "print(X_train.shape)\n",
    "print(Y_train.shape)\n",
    "print(X_test.shape)\n",
    "print(Y_test.shape)"
   ]
  },
  {
   "cell_type": "markdown",
   "id": "242f3c0d",
   "metadata": {},
   "source": [
    "# Multiple Linear Regression"
   ]
  },
  {
   "cell_type": "code",
   "execution_count": 67,
   "id": "b6169fe5",
   "metadata": {},
   "outputs": [],
   "source": [
    "from sklearn.linear_model import LinearRegression"
   ]
  },
  {
   "cell_type": "code",
   "execution_count": 68,
   "id": "55c2a2cb",
   "metadata": {},
   "outputs": [],
   "source": [
    "RegModel=LinearRegression()"
   ]
  },
  {
   "cell_type": "code",
   "execution_count": 69,
   "id": "f7908ad8",
   "metadata": {},
   "outputs": [
    {
     "name": "stdout",
     "output_type": "stream",
     "text": [
      "LinearRegression()\n"
     ]
    }
   ],
   "source": [
    "print(RegModel)"
   ]
  },
  {
   "cell_type": "code",
   "execution_count": 70,
   "id": "c13843a6",
   "metadata": {},
   "outputs": [
    {
     "name": "stdout",
     "output_type": "stream",
     "text": [
      "R Squared Valueis: 0.7659600078402483\n"
     ]
    }
   ],
   "source": [
    "LREG=RegModel.fit(X_train,Y_train)\n",
    "from sklearn import metrics\n",
    "print('R Squared Valueis:',metrics.r2_score(Y_train,LREG.predict(X_train)))"
   ]
  },
  {
   "cell_type": "code",
   "execution_count": 71,
   "id": "19507600",
   "metadata": {},
   "outputs": [
    {
     "name": "stdout",
     "output_type": "stream",
     "text": [
      "Model Validation & Accuracy\n",
      "Calculating error for each rows\n",
      "   price  Predictedprice        APE\n",
      "0   3239          2860.0  11.701142\n",
      "1   1974          2154.0   9.118541\n",
      "2   3094          2756.0  10.924370\n",
      "3   2095          2534.0  20.954654\n",
      "4   2190          2028.0   7.397260\n",
      "Mean Avg Accuracy 90.1249071730293\n",
      "Median Avg Accuracy 92.30959163248023\n",
      "Accuracy for 10 cross validation [86.15554819 87.44046022 89.62707327 88.37625646 90.94578963 92.08064797\n",
      " 91.78658855 90.88833101 89.8015595  87.04907041]\n",
      "Accuracy For the model 89.42\n"
     ]
    }
   ],
   "source": [
    "print('Model Validation & Accuracy')\n",
    "prediction=LREG.predict(X_test)\n",
    "TDR=pd.DataFrame(data=X_test,columns=Predictors)\n",
    "TDR[Target]=Y_test\n",
    "TDR[('Predicted'+Target)]=np.round(prediction)\n",
    "\n",
    "print('Calculating error for each rows')\n",
    "TDR['APE']=100*((abs(TDR['price']-TDR['Predictedprice']))/TDR['price'])\n",
    "\n",
    "print(TDR[[Target,'Predicted'+Target,'APE']].head())\n",
    "MeanAPE=np.mean(TDR['APE'])\n",
    "MedianAPE=np.median(TDR['APE'])\n",
    "ACC=100-MeanAPE\n",
    "MACC=100-MedianAPE\n",
    "print('Mean Avg Accuracy',ACC)\n",
    "print('Median Avg Accuracy',MACC)\n",
    "\n",
    "def acc_score(ori,predic):\n",
    "    MAPE=np.mean(100*(np.abs(ori-predic)/ori))\n",
    "    return(100-MAPE)\n",
    "\n",
    "from sklearn.metrics import make_scorer\n",
    "custom_scoring=make_scorer(acc_score,greater_is_better=True)\n",
    "\n",
    "from sklearn.model_selection import cross_val_score\n",
    "accuracy_val=cross_val_score(RegModel,X,Y,cv=10,scoring=custom_scoring)\n",
    "print('Accuracy for 10 cross validation',accuracy_val)\n",
    "print('Accuracy For the model',round(accuracy_val.mean(),2))\n"
   ]
  },
  {
   "cell_type": "code",
   "execution_count": 72,
   "id": "59d46e0e",
   "metadata": {},
   "outputs": [
    {
     "data": {
      "text/plain": [
       "array([ 1415.20091292,  -122.10541422,   376.80957941,   538.71876431,\n",
       "         681.92049158,  1477.3857122 , -1806.73625223])"
      ]
     },
     "execution_count": 72,
     "metadata": {},
     "output_type": "execute_result"
    }
   ],
   "source": [
    "LREG.coef_"
   ]
  },
  {
   "cell_type": "code",
   "execution_count": 73,
   "id": "f1aa6d64",
   "metadata": {},
   "outputs": [
    {
     "data": {
      "text/plain": [
       "2163.2568454987213"
      ]
     },
     "execution_count": 73,
     "metadata": {},
     "output_type": "execute_result"
    }
   ],
   "source": [
    "LREG.intercept_"
   ]
  },
  {
   "cell_type": "markdown",
   "id": "da361ab4",
   "metadata": {},
   "source": [
    "# Decision Trees"
   ]
  },
  {
   "cell_type": "code",
   "execution_count": 74,
   "id": "eac125ca",
   "metadata": {},
   "outputs": [],
   "source": [
    "from sklearn.tree import DecisionTreeRegressor"
   ]
  },
  {
   "cell_type": "code",
   "execution_count": 75,
   "id": "effd7f17",
   "metadata": {},
   "outputs": [
    {
     "name": "stdout",
     "output_type": "stream",
     "text": [
      "DecisionTreeRegressor(max_depth=10)\n"
     ]
    }
   ],
   "source": [
    "RegModel=DecisionTreeRegressor(max_depth=10,criterion='mse')\n",
    "print(RegModel)"
   ]
  },
  {
   "cell_type": "code",
   "execution_count": 76,
   "id": "2af8ddcc",
   "metadata": {},
   "outputs": [],
   "source": [
    "from sklearn import metrics\n",
    "DT=RegModel.fit(X_train,Y_train)"
   ]
  },
  {
   "cell_type": "code",
   "execution_count": 77,
   "id": "d004e244",
   "metadata": {},
   "outputs": [
    {
     "name": "stdout",
     "output_type": "stream",
     "text": [
      "R2 Value is: 0.9363158065756058\n"
     ]
    }
   ],
   "source": [
    "print('R2 Value is:',metrics.r2_score(Y_train,DT.predict(X_train)))"
   ]
  },
  {
   "cell_type": "code",
   "execution_count": 78,
   "id": "3bfbbffd",
   "metadata": {},
   "outputs": [
    {
     "name": "stdout",
     "output_type": "stream",
     "text": [
      "Model Validation & Accuracy Test\n",
      "   price  Predictedprice        APE\n",
      "0   3239          3239.0   0.000000\n",
      "1   1974          2140.0   8.409321\n",
      "2   3094          2765.0  10.633484\n",
      "3   2095          2244.0   7.112172\n",
      "4   2190          2125.0   2.968037\n",
      "Mean Accuracy On Test Data: 93.72638390240581\n",
      "Median Accuracy On Test Data: 95.2\n",
      "10 Fold cross validation Accuracy [88.3106046  92.6529051  93.3572721  91.05176744 91.38072408 92.07140254\n",
      " 90.74074484 92.5532678  92.98416322 79.4551919 ]\n",
      "Final Accuracy of Model 90.46\n"
     ]
    },
    {
     "data": {
      "text/plain": [
       "<AxesSubplot:>"
      ]
     },
     "execution_count": 78,
     "metadata": {},
     "output_type": "execute_result"
    },
    {
     "data": {
      "image/png": "[encoded data removed]",
      "text/plain": [
       "<Figure size 432x288 with 1 Axes>"
      ]
     },
     "metadata": {
      "needs_background": "light"
     },
     "output_type": "display_data"
    }
   ],
   "source": [
    "print(\"Model Validation & Accuracy Test\")\n",
    "prediction=DT.predict(X_test)\n",
    "TDR=pd.DataFrame(data=X_test,columns=Predictors)\n",
    "TDR[Target]=Y_test\n",
    "TDR[('Predicted'+Target)]=np.round(prediction)\n",
    "TDR['APE']=100*((abs(TDR['price']-TDR['Predictedprice']))/TDR['price'])\n",
    "print(TDR[[Target,'Predicted'+Target,'APE']].head())\n",
    "\n",
    "MeanAPE=np.mean(TDR['APE'])\n",
    "MedianAPE=np.median(TDR['APE'])\n",
    "\n",
    "ACC=100-MeanAPE\n",
    "MACC=100-MedianAPE\n",
    "print('Mean Accuracy On Test Data:',ACC)\n",
    "print('Median Accuracy On Test Data:',round(MACC.mean(),2))\n",
    "\n",
    "def cross_fun(ori,pre):\n",
    "    MAPE=np.mean(100*(np.abs(ori-pre)/ori))\n",
    "    return(100-MAPE)\n",
    "\n",
    "from sklearn.metrics import make_scorer\n",
    "custom_scoring=make_scorer(cross_fun,greater_is_better=True)\n",
    "\n",
    "from sklearn.model_selection import cross_val_score\n",
    "AV=cross_val_score(RegModel,X,Y,cv=10,scoring=custom_scoring)\n",
    "print('10 Fold cross validation Accuracy',AV)\n",
    "print('Final Accuracy of Model',round(AV.mean(),2))\n",
    "\n",
    "%matplotlib inline\n",
    "feature_importances = pd.Series(DT.feature_importances_, index=Predictors)\n",
    "feature_importances.nlargest(10).plot(kind='barh')"
   ]
  },
  {
   "cell_type": "markdown",
   "id": "7d48a2dc",
   "metadata": {},
   "source": [
    "# Random Forest"
   ]
  },
  {
   "cell_type": "code",
   "execution_count": 79,
   "id": "c8b3a2c5",
   "metadata": {},
   "outputs": [
    {
     "name": "stdout",
     "output_type": "stream",
     "text": [
      "RandomForestRegressor(max_depth=8, n_estimators=1300)\n",
      "R2 Value is: 0.9139931418422926\n",
      "Model Validation & Accuracy Calculations\n",
      "   price  Predictedprice        APE\n",
      "0   3239         3318.43   2.452300\n",
      "1   1974         2106.82   6.728470\n",
      "2   3094         2793.60   9.709114\n",
      "3   2095         2243.55   7.090692\n",
      "4   2190         2105.42   3.862100\n",
      "5   2495         2593.77   3.958717\n",
      "6   1149         1324.94  15.312446\n",
      "7   1578         1640.25   3.944867\n",
      "8   1499         1443.63   3.693796\n",
      "9   1398         1450.74   3.772532\n",
      "Mean Accuracy 93.37707698435976\n",
      "Median Accuracy 94.89347358327291\n",
      "10 Fold cross validation Accuracy [89.45391178 92.41612708 92.95082939 90.39801129 91.58343213 92.30780554\n",
      " 91.54761009 92.70640518 92.94538559 83.75131709]\n",
      "Final Accuracy of Model 91.01\n"
     ]
    },
    {
     "data": {
      "text/plain": [
       "<AxesSubplot:>"
      ]
     },
     "execution_count": 79,
     "metadata": {},
     "output_type": "execute_result"
    },
    {
     "data": {
      "image/png": "[encoded data removed]",
      "text/plain": [
       "<Figure size 432x288 with 1 Axes>"
      ]
     },
     "metadata": {
      "needs_background": "light"
     },
     "output_type": "display_data"
    }
   ],
   "source": [
    "from sklearn.ensemble import RandomForestRegressor\n",
    "RegModel=RandomForestRegressor(max_depth=8,n_estimators=1300,criterion='mse')\n",
    "print(RegModel)\n",
    "RF=RegModel.fit(X_train,Y_train)\n",
    "\n",
    "from sklearn import metrics\n",
    "print('R2 Value is:',metrics.r2_score(Y_train,RF.predict(X_train)))\n",
    "\n",
    "print('Model Validation & Accuracy Calculations')\n",
    "prediction=RF.predict(X_test)\n",
    "TDR=pd.DataFrame(data=X_test,columns=Predictors)\n",
    "TDR[Target]=Y_test\n",
    "TDR[('Predicted'+Target)]=np.round((prediction),2)\n",
    "TDR['APE']=100*((abs(TDR['price']-TDR['Predictedprice']))/TDR['price'])\n",
    "print(TDR[[Target,'Predicted'+Target,'APE']].head(10))\n",
    "\n",
    "MAPE=np.mean(TDR['APE'])\n",
    "MedianAPE=np.median(TDR['APE'])\n",
    "Accuracy=100-MAPE\n",
    "MedianAccuracy=100-MedianAPE\n",
    "print('Mean Accuracy',Accuracy)\n",
    "print('Median Accuracy',MedianAccuracy)\n",
    "\n",
    "def Acc_val(ori,pre):\n",
    "    MAPE=np.mean(100*(np.abs(ori-pre)/ori))\n",
    "    return(100-MAPE)\n",
    "\n",
    "from sklearn.metrics import make_scorer\n",
    "custom_scoring=make_scorer(Acc_val,greater_is_better=True)\n",
    "\n",
    "from sklearn.model_selection import cross_val_score\n",
    "Ac_Val=cross_val_score(RegModel,X,Y,cv=10,scoring=custom_scoring)\n",
    "print('10 Fold cross validation Accuracy',Ac_Val)\n",
    "print('Final Accuracy of Model',round(Ac_Val.mean(),2))\n",
    "\n",
    "FI=pd.Series(RF.feature_importances_,index=Predictors)\n",
    "FI.nlargest(10).plot(kind='barh')"
   ]
  },
  {
   "cell_type": "markdown",
   "id": "a992ab8f",
   "metadata": {},
   "source": [
    "# AdaBoost"
   ]
  },
  {
   "cell_type": "code",
   "execution_count": 80,
   "id": "ed154b05",
   "metadata": {},
   "outputs": [
    {
     "name": "stdout",
     "output_type": "stream",
     "text": [
      "AdaBoostRegressor(base_estimator=DecisionTreeRegressor(max_depth=2),\n",
      "                  learning_rate=0.01, n_estimators=1300)\n",
      "R2 Score Is: 0.5420379293824813\n",
      "Model Validation & Accuracy Calculations\n",
      "   price  Predictedprice        APE\n",
      "0   3239         2737.23  15.491510\n",
      "1   1974         2391.81  21.165653\n",
      "2   3094         2740.14  11.436975\n",
      "3   2095         2332.46  11.334606\n",
      "4   2190         2177.80   0.557078\n",
      "5   2495         2551.29   2.256112\n",
      "6   1149         1927.48  67.752829\n",
      "7   1578         2086.43  32.219899\n",
      "8   1499         1978.97  32.019346\n",
      "9   1398         2005.92  43.484979\n",
      "Mean Accuracy 84.29061065464474\n",
      "Median Accuracy 87.8987229507988\n",
      "10 Fold cross validation Accuracy [86.50384485 86.9256197  87.29452952 86.32054184 85.88252348 85.90550603\n",
      " 83.38710735 80.96539567 76.64915054 69.34578359]\n",
      "Final Accuracy of Model 82.92\n"
     ]
    },
    {
     "data": {
      "text/plain": [
       "<AxesSubplot:>"
      ]
     },
     "execution_count": 80,
     "metadata": {},
     "output_type": "execute_result"
    },
    {
     "data": {
      "image/png": "[encoded data removed]",
      "text/plain": [
       "<Figure size 432x288 with 1 Axes>"
      ]
     },
     "metadata": {
      "needs_background": "light"
     },
     "output_type": "display_data"
    }
   ],
   "source": [
    "from sklearn.ensemble import AdaBoostRegressor\n",
    "from sklearn.tree import DecisionTreeRegressor\n",
    "DTR=DecisionTreeRegressor(max_depth=2)\n",
    "RegModel=AdaBoostRegressor(n_estimators=1300,base_estimator=DTR,learning_rate=0.01)\n",
    "print(RegModel)\n",
    "AB=RegModel.fit(X_train,Y_train)\n",
    "prediction=AB.predict(X_test)\n",
    "\n",
    "from sklearn import metrics\n",
    "print('R2 Score Is:',metrics.r2_score(Y_train,AB.predict(X_train)))\n",
    "\n",
    "print('Model Validation & Accuracy Calculations')\n",
    "TDR=pd.DataFrame(data=X_test,columns=Predictors)\n",
    "TDR[Target]=Y_test\n",
    "TDR[('Predicted'+Target)]=np.round((prediction),2)\n",
    "TDR['APE']=100*((abs(TDR['price']-TDR['Predictedprice']))/TDR['price'])\n",
    "print(TDR[[Target,'Predicted'+Target,'APE']].head(10))\n",
    "\n",
    "MAPE=np.mean(TDR['APE'])\n",
    "MedianAPE=np.median(TDR['APE'])\n",
    "Accuracy=100-MAPE\n",
    "MedianAccuracy=100-MedianAPE\n",
    "print('Mean Accuracy',Accuracy)\n",
    "print('Median Accuracy',MedianAccuracy)\n",
    "\n",
    "def Acc_value(ori,pre):\n",
    "    MAPE=np.mean(100*(np.abs(ori-pre)/ori))\n",
    "    return(100-MAPE)\n",
    "\n",
    "from sklearn.metrics import make_scorer\n",
    "custom_scoring=make_scorer(Acc_value,greater_is_better=True)\n",
    "\n",
    "\n",
    "from sklearn.model_selection import cross_val_score\n",
    "Ac_Val=cross_val_score(RegModel,X,Y,cv=10,scoring=custom_scoring)\n",
    "print('10 Fold cross validation Accuracy',Ac_Val)\n",
    "print('Final Accuracy of Model',round(Ac_Val.mean(),2))\n",
    "\n",
    "FI=pd.Series(AB.feature_importances_,index=Predictors)\n",
    "FI.nlargest(10).plot(kind='barh')"
   ]
  },
  {
   "cell_type": "markdown",
   "id": "4590f584",
   "metadata": {},
   "source": [
    "# XGBoost"
   ]
  },
  {
   "cell_type": "code",
   "execution_count": 81,
   "id": "967f5155",
   "metadata": {},
   "outputs": [
    {
     "name": "stdout",
     "output_type": "stream",
     "text": [
      "XGBRegressor(base_score=None, booster='gbtree', colsample_bylevel=None,\n",
      "             colsample_bynode=None, colsample_bytree=None,\n",
      "             enable_categorical=False, gamma=None, gpu_id=None,\n",
      "             importance_type=None, interaction_constraints=None,\n",
      "             learning_rate=0.01, max_delta_step=None, max_depth=2,\n",
      "             min_child_weight=None, missing=nan, monotone_constraints=None,\n",
      "             n_estimators=1220, n_jobs=None, num_parallel_tree=None,\n",
      "             predictor=None, random_state=None, reg_alpha=None, reg_lambda=None,\n",
      "             scale_pos_weight=None, subsample=None, tree_method=None,\n",
      "             validate_parameters=None, verbosity=None)\n",
      "R2 Score is: 0.8696669093426127\n",
      "\n",
      "##### Model Validation and Accuracy Calculations ##########\n",
      "   price  Predictedprice        APE\n",
      "0   3239     3198.399902   1.253476\n",
      "1   1974     2041.130005   3.400709\n",
      "2   3094     2807.739990   9.252101\n",
      "3   2095     2386.840088  13.930314\n",
      "4   2190     2144.050049   2.098171\n",
      "5   2495     2683.159912   7.541479\n",
      "6   1149     1488.760010  29.570062\n",
      "7   1578     1676.680054   6.253489\n",
      "8   1499     1549.079956   3.340891\n",
      "9   1398     1476.040039   5.582263\n",
      "Mean Accuracy is: 92.7925445354324\n",
      "Median Accuracy is: 94.55167888946181\n",
      "10 Fold cross validation Accuracy [89.20674434 91.02103057 92.50993684 91.58811856 91.93185243 93.19501001\n",
      " 90.97942566 91.80207514 93.07745242 85.33644812]\n",
      "Final Accuracy of Model 91.06\n"
     ]
    },
    {
     "data": {
      "text/plain": [
       "<AxesSubplot:>"
      ]
     },
     "execution_count": 81,
     "metadata": {},
     "output_type": "execute_result"
    },
    {
     "data": {
      "image/png": "[encoded data removed]",
      "text/plain": [
       "<Figure size 432x288 with 1 Axes>"
      ]
     },
     "metadata": {
      "needs_background": "light"
     },
     "output_type": "display_data"
    }
   ],
   "source": [
    "from xgboost import XGBRegressor\n",
    "RegModel=XGBRegressor(max_depth=2,n_estimators=1220,booster='gbtree',learning_rate=0.01,objective='reg:squarederror')\n",
    "print(RegModel)\n",
    "XGB=RegModel.fit(X_train,Y_train)\n",
    "prediction=XGB.predict(X_test)\n",
    "\n",
    "from sklearn import metrics\n",
    "print('R2 Score is:',metrics.r2_score(Y_train,XGB.predict(X_train)))\n",
    "\n",
    "print('\\n##### Model Validation and Accuracy Calculations ##########')\n",
    "TDR=pd.DataFrame(data=X_test,columns=Predictors)\n",
    "TDR[Target]=Y_test\n",
    "TDR[('Predicted'+Target)]=np.round((prediction),2)\n",
    "TDR['APE']=100*((abs(TDR['price']-TDR['Predictedprice']))/TDR['price'])\n",
    "print(TDR[[Target,'Predicted'+Target,'APE']].head(10))\n",
    "\n",
    "MAPE=np.mean(TDR[\"APE\"])\n",
    "MedianAPE=np.median(TDR['APE'])\n",
    "Accuracy=100-MAPE\n",
    "MedianAccuracy=100-MedianAPE\n",
    "print('Mean Accuracy is:',Accuracy)\n",
    "print('Median Accuracy is:',MedianAccuracy)\n",
    "\n",
    "def Acc_val(ori,pre):\n",
    "    MAPE=np.mean(100*(np.abs(ori-pre)/ori))\n",
    "    return(100-MAPE)\n",
    "\n",
    "from sklearn.metrics import make_scorer\n",
    "custom_scoring=make_scorer(Acc_val,greater_is_better=True)\n",
    "\n",
    "from sklearn.model_selection import cross_val_score\n",
    "Ac_val=cross_val_score(RegModel,X,Y,cv=10,scoring=custom_scoring)\n",
    "print('10 Fold cross validation Accuracy',Ac_val)\n",
    "print('Final Accuracy of Model',round(Ac_val.mean(),2))\n",
    "\n",
    "FI=pd.Series(XGB.feature_importances_,index=Predictors)\n",
    "FI.nlargest(10).plot(kind='barh')"
   ]
  },
  {
   "cell_type": "markdown",
   "id": "9b6bf1b1",
   "metadata": {},
   "source": [
    "# KNN"
   ]
  },
  {
   "cell_type": "code",
   "execution_count": 82,
   "id": "d77c593a",
   "metadata": {},
   "outputs": [
    {
     "name": "stdout",
     "output_type": "stream",
     "text": [
      "KNeighborsRegressor(n_neighbors=6)\n",
      "R2 Scoreis: 0.9049450690776101\n",
      "\n",
      "##### Model Validation and Accuracy Calculations ##########\n",
      "   price  Predictedprice        APE\n",
      "0   3239         3155.50   2.577956\n",
      "1   1974         2034.00   3.039514\n",
      "2   3094         2869.33   7.261474\n",
      "3   2095         2222.50   6.085919\n",
      "4   2190         2136.00   2.465753\n",
      "5   2495         2883.00  15.551102\n",
      "6   1149         1461.17  27.168842\n",
      "7   1578         1664.00   5.449937\n",
      "8   1499         1499.00   0.000000\n",
      "9   1398         1465.33   4.816166\n",
      "Mean Accuracy is: 92.99479766890005\n",
      "Median Accuracy is: 94.71704449805027\n",
      "10 Fold cross validation Accuracy [90.34400992 91.21517649 92.40306096 91.33987459 92.20463068 92.86737489\n",
      " 91.38481364 92.26137135 93.15230951 91.38782265]\n",
      "Final Accuracy of Model 91.86\n"
     ]
    }
   ],
   "source": [
    "from sklearn.neighbors import KNeighborsRegressor\n",
    "RegModel=KNeighborsRegressor(n_neighbors=6)\n",
    "KN=RegModel.fit(X_train,Y_train)\n",
    "prediction=KN.predict(X_test)\n",
    "print(RegModel)\n",
    "\n",
    "from sklearn import metrics\n",
    "print('R2 Scoreis:',metrics.r2_score(Y_train,KN.predict(X_train)))\n",
    "\n",
    "print('\\n##### Model Validation and Accuracy Calculations ##########')\n",
    "TDR=pd.DataFrame(data=X_test,columns=Predictors)\n",
    "TDR[Target]=Y_test\n",
    "TDR[('Predicted'+Target)]=np.round((prediction),2)\n",
    "TDR['APE']=100*((abs(TDR['price']-TDR['Predictedprice']))/TDR['price'])\n",
    "print(TDR[[Target,'Predicted'+Target,'APE']].head(10))\n",
    "\n",
    "MAPE=np.mean(TDR['APE'])\n",
    "MedianMAPE=np.median(TDR['APE'])\n",
    "Accuracy=100-MAPE\n",
    "MedianAccuracy=100-MedianMAPE\n",
    "print('Mean Accuracy is:',Accuracy)\n",
    "print('Median Accuracy is:',MedianAccuracy)\n",
    "\n",
    "def Acc_val(ori,pre):\n",
    "    MAPE=np.mean(100*(np.abs(ori-pre)/ori))\n",
    "    return(100-MAPE)\n",
    "\n",
    "from sklearn.metrics import make_scorer\n",
    "custom_scoring=make_scorer(Acc_val,greater_is_better=True)\n",
    "\n",
    "from sklearn.model_selection import cross_val_score\n",
    "Ac_val=cross_val_score(RegModel,X,Y,cv=10,scoring=custom_scoring)\n",
    "print('10 Fold cross validation Accuracy',Ac_val)\n",
    "print('Final Accuracy of Model',round(Ac_val.mean(),2))\n"
   ]
  },
  {
   "cell_type": "markdown",
   "id": "83f27071",
   "metadata": {},
   "source": [
    "# Model Deplyoment"
   ]
  },
  {
   "cell_type": "code",
   "execution_count": 86,
   "id": "8873baa0",
   "metadata": {},
   "outputs": [
    {
     "name": "stdout",
     "output_type": "stream",
     "text": [
      "(6259, 5)\n",
      "(6259,)\n"
     ]
    }
   ],
   "source": [
    "Target='price'\n",
    "\n",
    "\n",
    "Predictors=[ 'Hard Drive', 'speed', 'ram','screen','trend']\n",
    "\n",
    "X=Dataforml12[Predictors].values\n",
    "Y=Dataforml12[Target].values\n",
    "\n",
    "DataForMLCP=Dataforml12[Predictors]\n",
    "DataForMLCP.to_pickle('DataForMLCOMP.pkl')\n",
    "\n",
    "\n",
    "from sklearn.preprocessing import StandardScaler, MinMaxScaler\n",
    "\n",
    "\n",
    "\n",
    "PredictorScaler=MinMaxScaler()\n",
    "\n",
    "\n",
    "PredictorScalerFit=PredictorScaler.fit(X)\n",
    "\n",
    "X=PredictorScalerFit.transform(X)\n",
    "\n",
    "print(X.shape)\n",
    "print(Y.shape)"
   ]
  },
  {
   "cell_type": "code",
   "execution_count": 88,
   "id": "eda2221a",
   "metadata": {},
   "outputs": [],
   "source": [
    "from sklearn.ensemble import RandomForestRegressor\n",
    "RegModel=RandomForestRegressor(max_depth=8,n_estimators=900,criterion='mse')\n",
    "\n",
    "Final_RFCOMP_Model=RegModel.fit(X,Y)"
   ]
  },
  {
   "cell_type": "code",
   "execution_count": 89,
   "id": "b8be98b9",
   "metadata": {},
   "outputs": [
    {
     "name": "stdout",
     "output_type": "stream",
     "text": [
      "10 Fold cross validation Accuracy [90.50498481 91.42424773 91.57425935 88.978797   89.23445163 89.62019347\n",
      " 89.17077067 91.13607142 92.36085641 84.91907749]\n",
      "Final Accuracy of Model 89.89\n"
     ]
    }
   ],
   "source": [
    "from sklearn.metrics import make_scorer\n",
    "custom_scoring=make_scorer(Acc_val,greater_is_better=True)\n",
    "\n",
    "from sklearn.model_selection import cross_val_score\n",
    "Ac_Val=cross_val_score(Final_RFCOMP_Model,X,Y,cv=10,scoring=custom_scoring)\n",
    "print('10 Fold cross validation Accuracy',Ac_Val)\n",
    "print('Final Accuracy of Model',round(Ac_Val.mean(),2))"
   ]
  },
  {
   "cell_type": "code",
   "execution_count": 94,
   "id": "6d526180",
   "metadata": {},
   "outputs": [
    {
     "name": "stdout",
     "output_type": "stream",
     "text": [
      "pickle file of Predictive Model is saved at Location: C:\\Users\\DIP\n"
     ]
    }
   ],
   "source": [
    "import pickle\n",
    "import os\n",
    "\n",
    "\n",
    "with open('Final_RFCOMP_Model.pkl', 'wb') as fileWriteStream:\n",
    "    pickle.dump(Final_RFCOMP_Model, fileWriteStream)\n",
    "    fileWriteStream.close()\n",
    "    \n",
    "print('pickle file of Predictive Model is saved at Location:',os.getcwd())"
   ]
  },
  {
   "cell_type": "code",
   "execution_count": 95,
   "id": "3828eb0a",
   "metadata": {},
   "outputs": [],
   "source": [
    "def FunctionPredictResult(InputData):\n",
    "    import pandas as pd\n",
    "    Num_Inputs=InputData.shape[0]\n",
    "    \n",
    "    DataForML=pd.read_pickle('DataForMLCOMP.pkl')\n",
    "    InputData=InputData.append(DataForML)\n",
    "    \n",
    "  \n",
    "    \n",
    "    \n",
    "            \n",
    "    Predictors=['Hard Drive', 'speed', 'ram','screen','trend']\n",
    "    \n",
    "  \n",
    "    X=InputData[Predictors].values[0:Num_Inputs]\n",
    "    \n",
    "    X=PredictorScalerFit.transform(X)\n",
    "    \n",
    "    \n",
    "    import pickle\n",
    "    with open('Final_RFCOMP_Model.pkl', 'rb') as fileReadStream:\n",
    "        PredictionModel=pickle.load(fileReadStream)\n",
    "        \n",
    "        fileReadStream.close()\n",
    "            \n",
    "    \n",
    "    Prediction=PredictionModel.predict(X)\n",
    "    PredictionResult=pd.DataFrame(Prediction, columns=['Prediction'])\n",
    "    return(PredictionResult)\n",
    "\n",
    "    \n",
    "     "
   ]
  },
  {
   "cell_type": "code",
   "execution_count": 97,
   "id": "2714abc9",
   "metadata": {},
   "outputs": [
    {
     "name": "stdout",
     "output_type": "stream",
     "text": [
      "   Hard Drive  speed  ram  screen  trend\n",
      "0         500     90   20     140      1\n",
      "1         230     30    6      13      1\n"
     ]
    },
    {
     "data": {
      "text/html": [
       "<div>\n",
       "<style scoped>\n",
       "    .dataframe tbody tr th:only-of-type {\n",
       "        vertical-align: middle;\n",
       "    }\n",
       "\n",
       "    .dataframe tbody tr th {\n",
       "        vertical-align: top;\n",
       "    }\n",
       "\n",
       "    .dataframe thead th {\n",
       "        text-align: right;\n",
       "    }\n",
       "</style>\n",
       "<table border=\"1\" class=\"dataframe\">\n",
       "  <thead>\n",
       "    <tr style=\"text-align: right;\">\n",
       "      <th></th>\n",
       "      <th>Prediction</th>\n",
       "    </tr>\n",
       "  </thead>\n",
       "  <tbody>\n",
       "    <tr>\n",
       "      <th>0</th>\n",
       "      <td>3958.239492</td>\n",
       "    </tr>\n",
       "    <tr>\n",
       "      <th>1</th>\n",
       "      <td>2165.617600</td>\n",
       "    </tr>\n",
       "  </tbody>\n",
       "</table>\n",
       "</div>"
      ],
      "text/plain": [
       "    Prediction\n",
       "0  3958.239492\n",
       "1  2165.617600"
      ]
     },
     "execution_count": 97,
     "metadata": {},
     "output_type": "execute_result"
    }
   ],
   "source": [
    "NewSampleData=pd.DataFrame(\n",
    "data=[[500,90,20,140,1],\n",
    "     [230,30,6,13,1]],\n",
    "columns=[ 'Hard Drive', 'speed', 'ram','screen','trend'])\n",
    "\n",
    "print(NewSampleData)\n",
    "\n",
    "\n",
    "FunctionPredictResult(InputData= NewSampleData)"
   ]
  },
  {
   "cell_type": "code",
   "execution_count": 98,
   "id": "a69e037a",
   "metadata": {},
   "outputs": [
    {
     "data": {
      "text/plain": [
       "'{\"Prediction\":{\"0\":3591.6177527383}}'"
      ]
     },
     "execution_count": 98,
     "metadata": {},
     "output_type": "execute_result"
    }
   ],
   "source": [
    "def FunctionGeneratePrediction(inp_harddrive, inp_speed, inp_ram,inp_screen,inp_trend):\n",
    "    SampleInputData=pd.DataFrame(\n",
    "     data=[[inp_harddrive, inp_speed, inp_ram,inp_screen,inp_trend]],\n",
    "     columns=['Hard Drive', 'speed', 'ram','screen','trend'])\n",
    "    Predictions=FunctionPredictResult(InputData= SampleInputData)\n",
    "    \n",
    "    return(Predictions.to_json())\n",
    "FunctionGeneratePrediction(inp_harddrive=500, \n",
    "                           inp_speed=45, \n",
    "                           inp_ram=4,\n",
    "                           inp_screen=13.3,inp_trend=1\n",
    "                             )"
   ]
  },
  {
   "cell_type": "code",
   "execution_count": 99,
   "id": "e203a630",
   "metadata": {},
   "outputs": [
    {
     "name": "stdout",
     "output_type": "stream",
     "text": [
      "Requirement already satisfied: flask in c:\\users\\dip\\anaconda3\\lib\\site-packages (1.1.2)\n",
      "Requirement already satisfied: click>=5.1 in c:\\users\\dip\\anaconda3\\lib\\site-packages (from flask) (7.1.2)\n",
      "Requirement already satisfied: Werkzeug>=0.15 in c:\\users\\dip\\anaconda3\\lib\\site-packages (from flask) (1.0.1)\n",
      "Requirement already satisfied: Jinja2>=2.10.1 in c:\\users\\dip\\anaconda3\\lib\\site-packages (from flask) (2.11.3)\n",
      "Requirement already satisfied: itsdangerous>=0.24 in c:\\users\\dip\\anaconda3\\lib\\site-packages (from flask) (1.1.0)\n",
      "Requirement already satisfied: MarkupSafe>=0.23 in c:\\users\\dip\\anaconda3\\lib\\site-packages (from Jinja2>=2.10.1->flask) (1.1.1)\n"
     ]
    }
   ],
   "source": [
    "!pip install flask"
   ]
  },
  {
   "cell_type": "code",
   "execution_count": 100,
   "id": "83ff833f",
   "metadata": {},
   "outputs": [],
   "source": [
    "from flask import Flask, request, jsonify\n",
    "import pickle\n",
    "import pandas as pd\n",
    "import numpy"
   ]
  },
  {
   "cell_type": "code",
   "execution_count": 104,
   "id": "f7425daa",
   "metadata": {},
   "outputs": [],
   "source": [
    "app = Flask(__name__)\n",
    "\n",
    "@app.route('/my_prediction', methods=[\"GET\"])\n",
    "def prediction_api():\n",
    "    try:\n",
    "        harddrive_value=float(request.args.get('Hard Drive'))\n",
    "        speed_value=float(request.args.get('speed'))\n",
    "        ram_value=float(request.args.get('ram'))\n",
    "        screen_value=float(request.args.get('screen'))\n",
    "        trend_value=float(request.args.get('trend'))\n",
    "                       \n",
    "        prediction_from_api=FunctionGeneratePrediction(\n",
    "                                                    inp_harddrive=harddrive_value, \n",
    "                                                    inp_speed=speed_value, \n",
    "                                                    inp_ram=ram_value,\n",
    "                                                    inp_screen=screen_value,\n",
    "                                                    inp_trend=trend_value\n",
    "\n",
    "                                                        )\n",
    "\n",
    "        return (prediction_from_api)\n",
    "    \n",
    "    except Exception as e:\n",
    "        return('Something is not right!:'+str(e))"
   ]
  },
  {
   "cell_type": "code",
   "execution_count": 105,
   "id": "fe7289d8",
   "metadata": {},
   "outputs": [
    {
     "name": "stdout",
     "output_type": "stream",
     "text": [
      " * Serving Flask app \"__main__\" (lazy loading)\n",
      " * Environment: production\n",
      "   WARNING: This is a development server. Do not use it in a production deployment.\n",
      "   Use a production WSGI server instead.\n",
      " * Debug mode: on\n"
     ]
    },
    {
     "name": "stderr",
     "output_type": "stream",
     "text": [
      " * Running on http://127.0.0.1:8080/ (Press CTRL+C to quit)\n",
      "127.0.0.1 - - [08/Feb/2022 16:04:26] \"\u001b[37mGET /my_prediction?Hard%20Drive=500&speed=45&ram=6&screen=46&trend=1 HTTP/1.1\u001b[0m\" 200 -\n"
     ]
    }
   ],
   "source": [
    "import os\n",
    "if __name__ ==\"__main__\":\n",
    "    \n",
    "    app.run(host='127.0.0.1', port=8080, threaded=True, debug=True, use_reloader=False)"
   ]
  },
  {
   "cell_type": "code",
   "execution_count": null,
   "id": "443c00c6",
   "metadata": {},
   "outputs": [],
   "source": []
  }
 ],
 "metadata": {
  "kernelspec": {
   "display_name": "Python 3",
   "language": "python",
   "name": "python3"
  },
  "language_info": {
   "codemirror_mode": {
    "name": "ipython",
    "version": 3
   },
   "file_extension": ".py",
   "mimetype": "text/x-python",
   "name": "python",
   "nbconvert_exporter": "python",
   "pygments_lexer": "ipython3",
   "version": "3.8.8"
  }
 },
 "nbformat": 4,
 "nbformat_minor": 5
}
